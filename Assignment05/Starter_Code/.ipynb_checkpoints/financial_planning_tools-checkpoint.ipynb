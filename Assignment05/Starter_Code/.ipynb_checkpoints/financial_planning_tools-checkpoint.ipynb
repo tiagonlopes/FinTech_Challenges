{
 "cells": [
  {
   "cell_type": "markdown",
   "metadata": {},
   "source": [
    "# Financial Planning with APIs and Simulations\n",
    "\n",
    "In this Challenge, you’ll create two financial analysis tools by using a single Jupyter notebook:\n",
    "\n",
    "Part 1: A financial planner for emergencies. The members will be able to use this tool to visualize their current savings. The members can then determine if they have enough reserves for an emergency fund.\n",
    "\n",
    "Part 2: A financial planner for retirement. This tool will forecast the performance of their retirement portfolio in 30 years. To do this, the tool will make an Alpaca API call via the Alpaca SDK to get historical price data for use in Monte Carlo simulations.\n",
    "\n",
    "You’ll use the information from the Monte Carlo simulation to answer questions about the portfolio in your Jupyter notebook.\n",
    "\n"
   ]
  },
  {
   "cell_type": "code",
   "execution_count": 1,
   "metadata": {},
   "outputs": [],
   "source": [
    "# Import the required libraries and dependencies\n",
    "import os\n",
    "import requests\n",
    "import json\n",
    "import pandas as pd\n",
    "from dotenv import load_dotenv\n",
    "import alpaca_trade_api as tradeapi\n",
    "from MCForecastTools import MCSimulation\n",
    "from datetime import date\n",
    "from datetime import timedelta\n",
    "\n",
    "%matplotlib inline"
   ]
  },
  {
   "cell_type": "code",
   "execution_count": 2,
   "metadata": {},
   "outputs": [
    {
     "data": {
      "text/plain": [
       "True"
      ]
     },
     "execution_count": 2,
     "metadata": {},
     "output_type": "execute_result"
    }
   ],
   "source": [
    "# Load the environment variables from the .env file\n",
    "#by calling the load_dotenv function\n",
    "load_dotenv('tiago_api.env')"
   ]
  },
  {
   "cell_type": "markdown",
   "metadata": {},
   "source": [
    "## Part 1: Create a Financial Planner for Emergencies"
   ]
  },
  {
   "cell_type": "markdown",
   "metadata": {},
   "source": [
    "### Evaluate the Cryptocurrency Wallet by Using the Requests Library\n",
    "\n",
    "In this section, you’ll determine the current value of a member’s cryptocurrency wallet. You’ll collect the current prices for the Bitcoin and Ethereum cryptocurrencies by using the Python Requests library. For the prototype, you’ll assume that the member holds the 1.2 Bitcoins (BTC) and 5.3 Ethereum coins (ETH). To do all this, complete the following steps:\n",
    "\n",
    "1. Create a variable named `monthly_income`, and set its value to `12000`.\n",
    "\n",
    "2. Use the Requests library to get the current price (in US dollars) of Bitcoin (BTC) and Ethereum (ETH) by using the API endpoints that the starter code supplies.\n",
    "\n",
    "3. Navigate the JSON response object to access the current price of each coin, and store each in a variable.\n",
    "\n",
    "    > **Hint** Note the specific identifier for each cryptocurrency in the API JSON response. The Bitcoin identifier is `1`, and the Ethereum identifier is `1027`.\n",
    "\n",
    "4. Calculate the value, in US dollars, of the current amount of each cryptocurrency and of the entire cryptocurrency wallet.\n",
    "\n"
   ]
  },
  {
   "cell_type": "code",
   "execution_count": 3,
   "metadata": {},
   "outputs": [],
   "source": [
    "# The current number of coins for each cryptocurrency asset held in the portfolio.\n",
    "btc_coins = 1.2\n",
    "eth_coins = 5.3"
   ]
  },
  {
   "cell_type": "markdown",
   "metadata": {},
   "source": [
    "#### Step 1: Create a variable named `monthly_income`, and set its value to `12000`."
   ]
  },
  {
   "cell_type": "code",
   "execution_count": 4,
   "metadata": {},
   "outputs": [],
   "source": [
    "# The monthly amount for the member's household income\n",
    "monthly_income = 12000.00"
   ]
  },
  {
   "cell_type": "markdown",
   "metadata": {},
   "source": [
    "#### Review the endpoint URLs for the API calls to Free Crypto API in order to get the current pricing information for both BTC and ETH."
   ]
  },
  {
   "cell_type": "code",
   "execution_count": 5,
   "metadata": {},
   "outputs": [],
   "source": [
    "# The Free Crypto API Call endpoint URLs for the held cryptocurrency assets\n",
    "btc_url = \"https://api.alternative.me/v2/ticker/Bitcoin/?convert=USD\"\n",
    "eth_url = \"https://api.alternative.me/v2/ticker/Ethereum/?convert=USD\""
   ]
  },
  {
   "cell_type": "markdown",
   "metadata": {},
   "source": [
    "#### Step 2. Use the Requests library to get the current price (in US dollars) of Bitcoin (BTC) and Ethereum (ETH) by using the API endpoints that the starter code supplied."
   ]
  },
  {
   "cell_type": "code",
   "execution_count": 6,
   "metadata": {},
   "outputs": [
    {
     "name": "stdout",
     "output_type": "stream",
     "text": [
      "{\n",
      "   \"data\": {\n",
      "      \"1\": {\n",
      "         \"circulating_supply\": 19018943,\n",
      "         \"id\": 1,\n",
      "         \"last_updated\": 1650642189,\n",
      "         \"max_supply\": 21000000,\n",
      "         \"name\": \"Bitcoin\",\n",
      "         \"quotes\": {\n",
      "            \"USD\": {\n",
      "               \"market_cap\": 756363462822,\n",
      "               \"percent_change_1h\": -0.466979269949539,\n",
      "               \"percent_change_24h\": -6.27710576022044,\n",
      "               \"percent_change_7d\": -0.676240395330349,\n",
      "               \"percentage_change_1h\": -0.466979269949539,\n",
      "               \"percentage_change_24h\": -6.27710576022044,\n",
      "               \"percentage_change_7d\": -0.676240395330349,\n",
      "               \"price\": 39689.0,\n",
      "               \"volume_24h\": 43496469028\n",
      "            }\n",
      "         },\n",
      "         \"rank\": 1,\n",
      "         \"symbol\": \"BTC\",\n",
      "         \"total_supply\": 19018943,\n",
      "         \"website_slug\": \"bitcoin\"\n",
      "      }\n",
      "   },\n",
      "   \"metadata\": {\n",
      "      \"error\": null,\n",
      "      \"num_cryptocurrencies\": 3106,\n",
      "      \"timestamp\": 1650642189\n",
      "   }\n",
      "}\n"
     ]
    }
   ],
   "source": [
    "# Using the Python requests library, make an API call to access the current price of BTC\n",
    "btc_response = requests.get(btc_url).json()\n",
    "\n",
    "# Use the json.dumps function to review the response data from the API call\n",
    "# Use the indent and sort_keys parameters to make the response object readable\n",
    "\n",
    "print(json.dumps(btc_response,indent = 3,sort_keys=True))\n"
   ]
  },
  {
   "cell_type": "code",
   "execution_count": 7,
   "metadata": {},
   "outputs": [
    {
     "name": "stdout",
     "output_type": "stream",
     "text": [
      "{\n",
      "   \"data\": {\n",
      "      \"1027\": {\n",
      "         \"circulating_supply\": 120483735,\n",
      "         \"id\": 1027,\n",
      "         \"last_updated\": 1650642200,\n",
      "         \"max_supply\": 0,\n",
      "         \"name\": \"Ethereum\",\n",
      "         \"quotes\": {\n",
      "            \"USD\": {\n",
      "               \"market_cap\": 357741808205,\n",
      "               \"percent_change_1h\": -0.193302050449421,\n",
      "               \"percent_change_24h\": -5.35331016703582,\n",
      "               \"percent_change_7d\": -1.96120026394308,\n",
      "               \"percentage_change_1h\": -0.193302050449421,\n",
      "               \"percentage_change_24h\": -5.35331016703582,\n",
      "               \"percentage_change_7d\": -1.96120026394308,\n",
      "               \"price\": 2964.12,\n",
      "               \"volume_24h\": 19863304116\n",
      "            }\n",
      "         },\n",
      "         \"rank\": 2,\n",
      "         \"symbol\": \"ETH\",\n",
      "         \"total_supply\": 120483735,\n",
      "         \"website_slug\": \"ethereum\"\n",
      "      }\n",
      "   },\n",
      "   \"metadata\": {\n",
      "      \"error\": null,\n",
      "      \"num_cryptocurrencies\": 3106,\n",
      "      \"timestamp\": 1650642200\n",
      "   }\n",
      "}\n"
     ]
    }
   ],
   "source": [
    "# Using the Python requests library, make an API call to access the current price ETH\n",
    "eth_response = requests.get(eth_url).json()\n",
    "\n",
    "# Use the json.dumps function to review the response data from the API call\n",
    "# Use the indent and sort_keys parameters to make the response object readable\n",
    "print(json.dumps(eth_response,indent = 3,sort_keys=True))\n",
    "\n"
   ]
  },
  {
   "cell_type": "markdown",
   "metadata": {},
   "source": [
    "#### Step 3: Navigate the JSON response object to access the current price of each coin, and store each in a variable."
   ]
  },
  {
   "cell_type": "code",
   "execution_count": 8,
   "metadata": {},
   "outputs": [
    {
     "name": "stdout",
     "output_type": "stream",
     "text": [
      "39689.0\n"
     ]
    }
   ],
   "source": [
    "# Navigate the BTC response object to access the current price of BTC\n",
    "btc_price = btc_response['data'][\"1\"]['quotes']['USD']['price']\n",
    "\n",
    "# Print the current price of BTC\n",
    "print(btc_price)\n"
   ]
  },
  {
   "cell_type": "code",
   "execution_count": 9,
   "metadata": {},
   "outputs": [
    {
     "name": "stdout",
     "output_type": "stream",
     "text": [
      "2964.12\n"
     ]
    }
   ],
   "source": [
    "# Navigate the BTC response object to access the current price of ETH\n",
    "eth_price = eth_response['data'][\"1027\"]['quotes']['USD']['price']\n",
    "\n",
    "# Print the current price of ETH\n",
    "print(eth_price)\n"
   ]
  },
  {
   "cell_type": "markdown",
   "metadata": {},
   "source": [
    "### Step 4: Calculate the value, in US dollars, of the current amount of each cryptocurrency and of the entire cryptocurrency wallet."
   ]
  },
  {
   "cell_type": "code",
   "execution_count": 10,
   "metadata": {},
   "outputs": [
    {
     "name": "stdout",
     "output_type": "stream",
     "text": [
      "47626.799999999996\n"
     ]
    }
   ],
   "source": [
    "# Compute the current value of the BTC holding \n",
    "btc_value = btc_price * btc_coins\n",
    "\n",
    "# Print current value of your holding in BTC\n",
    "print(btc_value)\n"
   ]
  },
  {
   "cell_type": "code",
   "execution_count": 11,
   "metadata": {},
   "outputs": [
    {
     "name": "stdout",
     "output_type": "stream",
     "text": [
      "15709.836\n"
     ]
    }
   ],
   "source": [
    "# Compute the current value of the ETH holding \n",
    "eth_value = eth_price * eth_coins\n",
    "\n",
    "# Print current value of your holding in ETH\n",
    "print(eth_value)\n"
   ]
  },
  {
   "cell_type": "code",
   "execution_count": 12,
   "metadata": {},
   "outputs": [
    {
     "name": "stdout",
     "output_type": "stream",
     "text": [
      "63336.636\n"
     ]
    }
   ],
   "source": [
    "# Compute the total value of the cryptocurrency wallet\n",
    "# Add the value of the BTC holding to the value of the ETH holding\n",
    "total_crypto_wallet = eth_value + btc_value\n",
    "\n",
    "# Print current cryptocurrency wallet balance\n",
    "print(total_crypto_wallet)\n"
   ]
  },
  {
   "cell_type": "markdown",
   "metadata": {},
   "source": [
    "### Evaluate the Stock and Bond Holdings by Using the Alpaca SDK\n",
    "\n",
    "In this section, you’ll determine the current value of a member’s stock and bond holdings. You’ll make an API call to Alpaca via the Alpaca SDK to get the current closing prices of the SPDR S&P 500 ETF Trust (ticker: SPY) and of the iShares Core US Aggregate Bond ETF (ticker: AGG). For the prototype, assume that the member holds 110 shares of SPY, which represents the stock portion of their portfolio, and 200 shares of AGG, which represents the bond portion. To do all this, complete the following steps:\n",
    "\n",
    "1. In the `Starter_Code` folder, create an environment file (`.env`) to store the values of your Alpaca API key and Alpaca secret key.\n",
    "\n",
    "2. Set the variables for the Alpaca API and secret keys. Using the Alpaca SDK, create the Alpaca `tradeapi.REST` object. In this object, include the parameters for the Alpaca API key, the secret key, and the version number.\n",
    "\n",
    "3. Set the following parameters for the Alpaca API call:\n",
    "\n",
    "    - `tickers`: Use the tickers for the member’s stock and bond holdings.\n",
    "\n",
    "    - `timeframe`: Use a time frame of one day.\n",
    "\n",
    "    - `start_date` and `end_date`: Use the same date for these parameters, and format them with the date of the previous weekday (or `2020-08-07`). This is because you want the one closing price for the most-recent trading day.\n",
    "\n",
    "4. Get the current closing prices for `SPY` and `AGG` by using the Alpaca `get_bars` function. Format the response as a Pandas DataFrame by including the `df` property at the end of the `get_bars` function.\n",
    "\n",
    "5. Navigating the Alpaca response DataFrame, select the `SPY` and `AGG` closing prices, and store them as variables.\n",
    "\n",
    "6. Calculate the value, in US dollars, of the current amount of shares in each of the stock and bond portions of the portfolio, and print the results.\n"
   ]
  },
  {
   "cell_type": "markdown",
   "metadata": {},
   "source": [
    "#### Review the total number of shares held in both (SPY) and (AGG)."
   ]
  },
  {
   "cell_type": "code",
   "execution_count": 13,
   "metadata": {},
   "outputs": [],
   "source": [
    "# Current amount of shares held in both the stock (SPY) and bond (AGG) portion of the portfolio.\n",
    "spy_shares = 110\n",
    "agg_shares = 200\n"
   ]
  },
  {
   "cell_type": "markdown",
   "metadata": {},
   "source": [
    "#### Step 1: In the `Starter_Code` folder, create an environment file (`.env`) to store the values of your Alpaca API key and Alpaca secret key."
   ]
  },
  {
   "cell_type": "markdown",
   "metadata": {},
   "source": [
    "#### Step 2: Set the variables for the Alpaca API and secret keys. Using the Alpaca SDK, create the Alpaca `tradeapi.REST` object. In this object, include the parameters for the Alpaca API key, the secret key, and the version number."
   ]
  },
  {
   "cell_type": "code",
   "execution_count": 14,
   "metadata": {},
   "outputs": [
    {
     "name": "stdout",
     "output_type": "stream",
     "text": [
      "Alpaca Key type: PKVQDTDDZI9M94E2XB83\n",
      "Alpaca Secret Key type: PjAb0Yr7KTenGJJxHcnY0DaU2eA6ys67b8xgPPaz\n"
     ]
    }
   ],
   "source": [
    "# Set the variables for the Alpaca API and secret keys\n",
    "alpaca_api_key = os.getenv(\"ALPACA_API_KEY\")\n",
    "alpaca_secret_key = os.getenv(\"ALPACA_SECRET_KEY\")\n",
    "print(f\"Alpaca Key type: {alpaca_api_key}\")\n",
    "print(f\"Alpaca Secret Key type: {alpaca_secret_key}\")\n",
    "\n",
    "# Create the Alpaca tradeapi.REST object\n",
    "alpaca = tradeapi.REST(\n",
    "    alpaca_api_key,\n",
    "    alpaca_secret_key,\n",
    "    api_version=\"v2\")\n"
   ]
  },
  {
   "cell_type": "markdown",
   "metadata": {},
   "source": [
    "#### Step 3: Set the following parameters for the Alpaca API call:\n",
    "\n",
    "- `tickers`: Use the tickers for the member’s stock and bond holdings.\n",
    "\n",
    "- `timeframe`: Use a time frame of one day.\n",
    "\n",
    "- `start_date` and `end_date`: Use the same date for these parameters, and format them with the date of the previous weekday (or `2020-08-07`). This is because you want the one closing price for the most-recent trading day.\n"
   ]
  },
  {
   "cell_type": "code",
   "execution_count": 15,
   "metadata": {},
   "outputs": [
    {
     "data": {
      "text/plain": [
       "'2022-04-21'"
      ]
     },
     "execution_count": 15,
     "metadata": {},
     "output_type": "execute_result"
    }
   ],
   "source": [
    "#Calculating End Date\n",
    "today_date = date.today()\n",
    "yesterday = today_date - timedelta(days=1)\n",
    "str(yesterday)"
   ]
  },
  {
   "cell_type": "code",
   "execution_count": 16,
   "metadata": {},
   "outputs": [],
   "source": [
    "# Set the tickers for both the bond and stock portion of the portfolio\n",
    "tickers = ['SPY','AGG']\n",
    "\n",
    "# Set timeframe to 1Day\n",
    "timeframe = '1Day'\n",
    "\n",
    "# Format current date as ISO format\n",
    "# Set both the start and end date at the date of your prior weekday \n",
    "# This will give you the closing price of the previous trading day\n",
    "# Alternatively you can use a start and end date of 2020-08-07\n",
    "start_date = pd.Timestamp('2020-08-07', tz=\"America/New_York\").isoformat()\n",
    "end_date = pd.Timestamp(str(yesterday), tz=\"America/New_York\").isoformat()"
   ]
  },
  {
   "cell_type": "markdown",
   "metadata": {},
   "source": [
    "#### Step 4: Get the current closing prices for `SPY` and `AGG` by using the Alpaca `get_bars` function. Format the response as a Pandas DataFrame by including the `df` property at the end of the `get_bars` function."
   ]
  },
  {
   "cell_type": "code",
   "execution_count": 17,
   "metadata": {},
   "outputs": [
    {
     "data": {
      "text/html": [
       "<div>\n",
       "<style scoped>\n",
       "    .dataframe tbody tr th:only-of-type {\n",
       "        vertical-align: middle;\n",
       "    }\n",
       "\n",
       "    .dataframe tbody tr th {\n",
       "        vertical-align: top;\n",
       "    }\n",
       "\n",
       "    .dataframe thead tr th {\n",
       "        text-align: left;\n",
       "    }\n",
       "\n",
       "    .dataframe thead tr:last-of-type th {\n",
       "        text-align: right;\n",
       "    }\n",
       "</style>\n",
       "<table border=\"1\" class=\"dataframe\">\n",
       "  <thead>\n",
       "    <tr>\n",
       "      <th></th>\n",
       "      <th colspan=\"7\" halign=\"left\">SPY</th>\n",
       "      <th colspan=\"7\" halign=\"left\">AGG</th>\n",
       "    </tr>\n",
       "    <tr>\n",
       "      <th></th>\n",
       "      <th>open</th>\n",
       "      <th>high</th>\n",
       "      <th>low</th>\n",
       "      <th>close</th>\n",
       "      <th>volume</th>\n",
       "      <th>trade_count</th>\n",
       "      <th>vwap</th>\n",
       "      <th>open</th>\n",
       "      <th>high</th>\n",
       "      <th>low</th>\n",
       "      <th>close</th>\n",
       "      <th>volume</th>\n",
       "      <th>trade_count</th>\n",
       "      <th>vwap</th>\n",
       "    </tr>\n",
       "    <tr>\n",
       "      <th>timestamp</th>\n",
       "      <th></th>\n",
       "      <th></th>\n",
       "      <th></th>\n",
       "      <th></th>\n",
       "      <th></th>\n",
       "      <th></th>\n",
       "      <th></th>\n",
       "      <th></th>\n",
       "      <th></th>\n",
       "      <th></th>\n",
       "      <th></th>\n",
       "      <th></th>\n",
       "      <th></th>\n",
       "      <th></th>\n",
       "    </tr>\n",
       "  </thead>\n",
       "  <tbody>\n",
       "    <tr>\n",
       "      <th>2022-04-21 04:00:00+00:00</th>\n",
       "      <td>448.58</td>\n",
       "      <td>450.01</td>\n",
       "      <td>437.1</td>\n",
       "      <td>438.06</td>\n",
       "      <td>85097110</td>\n",
       "      <td>719682</td>\n",
       "      <td>442.772969</td>\n",
       "      <td>103.44</td>\n",
       "      <td>103.47</td>\n",
       "      <td>102.79</td>\n",
       "      <td>103.04</td>\n",
       "      <td>11393860</td>\n",
       "      <td>35595</td>\n",
       "      <td>103.047589</td>\n",
       "    </tr>\n",
       "  </tbody>\n",
       "</table>\n",
       "</div>"
      ],
      "text/plain": [
       "                              SPY                                   \\\n",
       "                             open    high    low   close    volume   \n",
       "timestamp                                                            \n",
       "2022-04-21 04:00:00+00:00  448.58  450.01  437.1  438.06  85097110   \n",
       "\n",
       "                                                      AGG                  \\\n",
       "                          trade_count        vwap    open    high     low   \n",
       "timestamp                                                                   \n",
       "2022-04-21 04:00:00+00:00      719682  442.772969  103.44  103.47  102.79   \n",
       "\n",
       "                                                                     \n",
       "                            close    volume trade_count        vwap  \n",
       "timestamp                                                            \n",
       "2022-04-21 04:00:00+00:00  103.04  11393860       35595  103.047589  "
      ]
     },
     "execution_count": 17,
     "metadata": {},
     "output_type": "execute_result"
    }
   ],
   "source": [
    "# Use the Alpaca get_bars function to get current closing prices the portfolio\n",
    "# Be sure to set the `df` property after the function to format the response object as a DataFrame\n",
    "df_portfolio = alpaca.get_bars(\n",
    "    tickers,\n",
    "    timeframe,\n",
    "    start = end_date,\n",
    "    end = end_date\n",
    ").df\n",
    "\n",
    "# Reorganize the DataFrame\n",
    "# Separate ticker data\n",
    "SPY = df_portfolio[df_portfolio['symbol']=='SPY'].drop('symbol', axis=1)\n",
    "AGG = df_portfolio[df_portfolio['symbol']=='AGG'].drop('symbol', axis=1)\n",
    "\n",
    "# Concatenate the ticker DataFrames\n",
    "df_portfolio = pd.concat([SPY, AGG],axis=1, keys=['SPY','AGG'])\n",
    "\n",
    "# Review the first 5 rows of the Alpaca DataFrame\n",
    "# YOUR CODE HERE\n",
    "df_portfolio.head()"
   ]
  },
  {
   "cell_type": "markdown",
   "metadata": {},
   "source": [
    "#### Step 5: Navigating the Alpaca response DataFrame, select the `SPY` and `AGG` closing prices, and store them as variables."
   ]
  },
  {
   "cell_type": "code",
   "execution_count": 18,
   "metadata": {},
   "outputs": [
    {
     "name": "stdout",
     "output_type": "stream",
     "text": [
      "103.04\n"
     ]
    }
   ],
   "source": [
    "# Access the closing price for AGG from the Alpaca DataFrame\n",
    "# Converting the value to a floating point number\n",
    "agg_close_price = float(df_portfolio['AGG']['close'])\n",
    "\n",
    "# Print the AGG closing price\n",
    "print(agg_close_price)\n"
   ]
  },
  {
   "cell_type": "code",
   "execution_count": 19,
   "metadata": {},
   "outputs": [
    {
     "name": "stdout",
     "output_type": "stream",
     "text": [
      "438.06\n"
     ]
    }
   ],
   "source": [
    "# Access the closing price for SPY from the Alpaca DataFrame\n",
    "# Converting the value to a floating point number\n",
    "spy_close_price = float(df_portfolio['SPY']['close'])\n",
    "\n",
    "# Print the SPY closing price\n",
    "print(spy_close_price)\n"
   ]
  },
  {
   "cell_type": "markdown",
   "metadata": {},
   "source": [
    "#### Step 6: Calculate the value, in US dollars, of the current amount of shares in each of the stock and bond portions of the portfolio, and print the results."
   ]
  },
  {
   "cell_type": "code",
   "execution_count": 20,
   "metadata": {},
   "outputs": [
    {
     "name": "stdout",
     "output_type": "stream",
     "text": [
      "20608.0\n"
     ]
    }
   ],
   "source": [
    "# Calculate the current value of the bond portion of the portfolio\n",
    "agg_value = agg_close_price * agg_shares\n",
    "\n",
    "# Print the current value of the bond portfolio\n",
    "print(agg_value)\n"
   ]
  },
  {
   "cell_type": "code",
   "execution_count": 21,
   "metadata": {},
   "outputs": [
    {
     "name": "stdout",
     "output_type": "stream",
     "text": [
      "48186.6\n"
     ]
    }
   ],
   "source": [
    "# Calculate the current value of the stock portion of the portfolio\n",
    "spy_value = spy_close_price * spy_shares\n",
    "\n",
    "# Print the current value of the stock portfolio\n",
    "print(spy_value)\n"
   ]
  },
  {
   "cell_type": "code",
   "execution_count": 22,
   "metadata": {},
   "outputs": [
    {
     "name": "stdout",
     "output_type": "stream",
     "text": [
      "68794.6\n"
     ]
    }
   ],
   "source": [
    "# Calculate the total value of the stock and bond portion of the portfolio\n",
    "total_stocks_bonds = spy_value + agg_value\n",
    "\n",
    "# Print the current balance of the stock and bond portion of the portfolio\n",
    "print(total_stocks_bonds)\n"
   ]
  },
  {
   "cell_type": "code",
   "execution_count": 23,
   "metadata": {},
   "outputs": [
    {
     "name": "stdout",
     "output_type": "stream",
     "text": [
      "132131.236\n"
     ]
    }
   ],
   "source": [
    "# Calculate the total value of the member's entire savings portfolio\n",
    "# Add the value of the cryptocurrency walled to the value of the total stocks and bonds\n",
    "total_portfolio = total_stocks_bonds + total_crypto_wallet\n",
    "\n",
    "# Print current cryptocurrency wallet balance\n",
    "print(total_portfolio)\n"
   ]
  },
  {
   "cell_type": "markdown",
   "metadata": {},
   "source": [
    "### Evaluate the Emergency Fund\n",
    "\n",
    "In this section, you’ll use the valuations for the cryptocurrency wallet and for the stock and bond portions of the portfolio to determine if the credit union member has enough savings to build an emergency fund into their financial plan. To do this, complete the following steps:\n",
    "\n",
    "1. Create a Python list named `savings_data` that has two elements. The first element contains the total value of the cryptocurrency wallet. The second element contains the total value of the stock and bond portions of the portfolio.\n",
    "\n",
    "2. Use the `savings_data` list to create a Pandas DataFrame named `savings_df`, and then display this DataFrame. The function to create the DataFrame should take the following three parameters:\n",
    "\n",
    "    - `savings_data`: Use the list that you just created.\n",
    "\n",
    "    - `columns`: Set this parameter equal to a Python list with a single value called `amount`.\n",
    "\n",
    "    - `index`: Set this parameter equal to a Python list with the values of `crypto` and `stock/bond`.\n",
    "\n",
    "3. Use the `savings_df` DataFrame to plot a pie chart that visualizes the composition of the member’s portfolio. The y-axis of the pie chart uses `amount`. Be sure to add a title.\n",
    "\n",
    "4. Using Python, determine if the current portfolio has enough to create an emergency fund as part of the member’s financial plan. Ideally, an emergency fund should equal to three times the member’s monthly income. To do this, implement the following steps:\n",
    "\n",
    "    1. Create a variable named `emergency_fund_value`, and set it equal to three times the value of the member’s `monthly_income` of $12000. (You set this earlier in Part 1).\n",
    "\n",
    "    2. Create a series of three if statements to determine if the member’s total portfolio is large enough to fund the emergency portfolio:\n",
    "\n",
    "        1. If the total portfolio value is greater than the emergency fund value, display a message congratulating the member for having enough money in this fund.\n",
    "\n",
    "        2. Else if the total portfolio value is equal to the emergency fund value, display a message congratulating the member on reaching this important financial goal.\n",
    "\n",
    "        3. Else the total portfolio is less than the emergency fund value, so display a message showing how many dollars away the member is from reaching the goal. (Subtract the total portfolio value from the emergency fund value.)\n"
   ]
  },
  {
   "cell_type": "markdown",
   "metadata": {},
   "source": [
    "#### Step 1: Create a Python list named `savings_data` that has two elements. The first element contains the total value of the cryptocurrency wallet. The second element contains the total value of the stock and bond portions of the portfolio."
   ]
  },
  {
   "cell_type": "code",
   "execution_count": 24,
   "metadata": {},
   "outputs": [
    {
     "name": "stdout",
     "output_type": "stream",
     "text": [
      "[63336.636, 68794.6]\n"
     ]
    }
   ],
   "source": [
    "# Consolidate financial assets data into a Python list\n",
    "savings_data = [total_crypto_wallet, total_stocks_bonds]\n",
    "\n",
    "# Review the Python list savings_data\n",
    "print(savings_data)\n",
    "    "
   ]
  },
  {
   "cell_type": "markdown",
   "metadata": {},
   "source": [
    "#### Step 2: Use the `savings_data` list to create a Pandas DataFrame named `savings_df`, and then display this DataFrame. The function to create the DataFrame should take the following three parameters:\n",
    "\n",
    "- `savings_data`: Use the list that you just created.\n",
    "\n",
    "- `columns`: Set this parameter equal to a Python list with a single value called `amount`.\n",
    "\n",
    "- `index`: Set this parameter equal to a Python list with the values of `crypto` and `stock/bond`.\n"
   ]
  },
  {
   "cell_type": "code",
   "execution_count": 25,
   "metadata": {},
   "outputs": [
    {
     "data": {
      "text/html": [
       "<div>\n",
       "<style scoped>\n",
       "    .dataframe tbody tr th:only-of-type {\n",
       "        vertical-align: middle;\n",
       "    }\n",
       "\n",
       "    .dataframe tbody tr th {\n",
       "        vertical-align: top;\n",
       "    }\n",
       "\n",
       "    .dataframe thead th {\n",
       "        text-align: right;\n",
       "    }\n",
       "</style>\n",
       "<table border=\"1\" class=\"dataframe\">\n",
       "  <thead>\n",
       "    <tr style=\"text-align: right;\">\n",
       "      <th></th>\n",
       "      <th>amount</th>\n",
       "    </tr>\n",
       "  </thead>\n",
       "  <tbody>\n",
       "    <tr>\n",
       "      <th>crypto</th>\n",
       "      <td>63336.636</td>\n",
       "    </tr>\n",
       "    <tr>\n",
       "      <th>stock/bond</th>\n",
       "      <td>68794.600</td>\n",
       "    </tr>\n",
       "  </tbody>\n",
       "</table>\n",
       "</div>"
      ],
      "text/plain": [
       "               amount\n",
       "crypto      63336.636\n",
       "stock/bond  68794.600"
      ]
     },
     "execution_count": 25,
     "metadata": {},
     "output_type": "execute_result"
    }
   ],
   "source": [
    "# Create a Pandas DataFrame called savings_df \n",
    "savings_df = pd.DataFrame(savings_data, columns = ['amount'],index = ['crypto','stock/bond'])\n",
    "\n",
    "# Display the savings_df DataFrame\n",
    "savings_df\n"
   ]
  },
  {
   "cell_type": "markdown",
   "metadata": {},
   "source": [
    "#### Step 3: Use the `savings_df` DataFrame to plot a pie chart that visualizes the composition of the member’s portfolio. The y-axis of the pie chart uses `amount`. Be sure to add a title."
   ]
  },
  {
   "cell_type": "code",
   "execution_count": 30,
   "metadata": {},
   "outputs": [
    {
     "data": {
      "text/plain": [
       "<AxesSubplot:title={'center':'Portfolio Allocation'}, ylabel='amount'>"
      ]
     },
     "execution_count": 30,
     "metadata": {},
     "output_type": "execute_result"
    },
    {
     "data": {
      "image/png": "[encoded data removed]",
      "text/plain": [
       "<Figure size 432x288 with 1 Axes>"
      ]
     },
     "metadata": {},
     "output_type": "display_data"
    }
   ],
   "source": [
    "# Plot the total value of the member's portfolio (crypto and stock/bond) in a pie chart\n",
    "savings_df.plot(kind = 'pie',\n",
    "                y = 'amount',\n",
    "                title = 'Portfolio Allocation',\n",
    "                legend = True,\n",
    "                autopct='%1.1f%%'\n",
    "               )\n"
   ]
  },
  {
   "cell_type": "markdown",
   "metadata": {},
   "source": [
    "#### Step 4: Using Python, determine if the current portfolio has enough to create an emergency fund as part of the member’s financial plan. Ideally, an emergency fund should equal to three times the member’s monthly income. To do this, implement the following steps:\n",
    "\n",
    "Step 1. Create a variable named `emergency_fund_value`, and set it equal to three times the value of the member’s `monthly_income` of 12000. (You set this earlier in Part 1).\n",
    "\n",
    "Step 2. Create a series of three if statements to determine if the member’s total portfolio is large enough to fund the emergency portfolio:\n",
    "\n",
    "* If the total portfolio value is greater than the emergency fund value, display a message congratulating the member for having enough money in this fund.\n",
    "\n",
    "* Else if the total portfolio value is equal to the emergency fund value, display a message congratulating the member on reaching this important financial goal.\n",
    "\n",
    "* Else the total portfolio is less than the emergency fund value, so display a message showing how many dollars away the member is from reaching the goal. (Subtract the total portfolio value from the emergency fund value.)\n"
   ]
  },
  {
   "cell_type": "markdown",
   "metadata": {},
   "source": [
    "##### Step 4-1: Create a variable named `emergency_fund_value`, and set it equal to three times the value of the member’s `monthly_income` of 12000. (You set this earlier in Part 1)."
   ]
  },
  {
   "cell_type": "code",
   "execution_count": 39,
   "metadata": {},
   "outputs": [],
   "source": [
    "# Create a variable named emergency_fund_value\n",
    "emergency_fund_value = monthly_income * 3\n"
   ]
  },
  {
   "cell_type": "markdown",
   "metadata": {},
   "source": [
    "##### Step 4-2: Create a series of three if statements to determine if the member’s total portfolio is large enough to fund the emergency portfolio:\n",
    "\n",
    "* If the total portfolio value is greater than the emergency fund value, display a message congratulating the member for having enough money in this fund.\n",
    "\n",
    "* Else if the total portfolio value is equal to the emergency fund value, display a message congratulating the member on reaching this important financial goal.\n",
    "\n",
    "* Else the total portfolio is less than the emergency fund value, so display a message showing how many dollars away the member is from reaching the goal. (Subtract the total portfolio value from the emergency fund value.)"
   ]
  },
  {
   "cell_type": "code",
   "execution_count": 40,
   "metadata": {},
   "outputs": [
    {
     "name": "stdout",
     "output_type": "stream",
     "text": [
      "Congratulations! You have enough money in this fund!\n"
     ]
    }
   ],
   "source": [
    "# Evaluate the possibility of creating an emergency fund with 3 conditions:\n",
    "if total_portfolio > emergency_fund_value:\n",
    "    print(\"Congratulations! You have enough money in this fund!\")\n",
    "elif total_portfolio < emergency_fund_value:\n",
    "    print(f'You are USD {round(emergency_fund_value - total_portfolio,2)} away from reaching the emergency fund goal')\n",
    "else:\n",
    "    print(\"Congratulations, you have reached your emergency fund target\")\n"
   ]
  },
  {
   "cell_type": "markdown",
   "metadata": {},
   "source": [
    "## Part 2: Create a Financial Planner for Retirement"
   ]
  },
  {
   "cell_type": "markdown",
   "metadata": {},
   "source": [
    "### Create the Monte Carlo Simulation\n",
    "\n",
    "In this section, you’ll use the MCForecastTools library to create a Monte Carlo simulation for the member’s savings portfolio. To do this, complete the following steps:\n",
    "\n",
    "1. Make an API call via the Alpaca SDK to get 3 years of historical closing prices for a traditional 60/40 portfolio split: 60% stocks (SPY) and 40% bonds (AGG).\n",
    "\n",
    "2. Run a Monte Carlo simulation of 500 samples and 30 years for the 60/40 portfolio, and then plot the results.The following image shows the overlay line plot resulting from a simulation with these characteristics. However, because a random number generator is used to run each live Monte Carlo simulation, your image will differ slightly from this exact image:\n",
    "\n",
    "![A screenshot depicts the resulting plot.](Images/5-4-monte-carlo-line-plot.png)\n",
    "\n",
    "3. Plot the probability distribution of the Monte Carlo simulation. Plot the probability distribution of the Monte Carlo simulation. The following image shows the histogram plot resulting from a simulation with these characteristics. However, because a random number generator is used to run each live Monte Carlo simulation, your image will differ slightly from this exact image:\n",
    "\n",
    "![A screenshot depicts the histogram plot.](Images/5-4-monte-carlo-histogram.png)\n",
    "\n",
    "4. Generate the summary statistics for the Monte Carlo simulation.\n",
    "\n"
   ]
  },
  {
   "cell_type": "markdown",
   "metadata": {},
   "source": [
    "#### Step 1: Make an API call via the Alpaca SDK to get 3 years of historical closing prices for a traditional 60/40 portfolio split: 60% stocks (SPY) and 40% bonds (AGG)."
   ]
  },
  {
   "cell_type": "code",
   "execution_count": 45,
   "metadata": {},
   "outputs": [],
   "source": [
    "# Set start and end dates of 3 years back from your current date\n",
    "# Alternatively, you can use an end date of 2020-08-07 and work 3 years back from that date \n",
    "\n",
    "#Yesterday date as the initial date\n",
    "today_date = date.today()\n",
    "yesterday = today_date - timedelta(days=1)\n",
    "\n",
    "#3y from yesterday\n",
    "three_years = 3*365\n",
    "yesterday_3y = yesterday - timedelta(days = three_years)\n",
    "\n",
    "start_date = pd.Timestamp(str(yesterday_3y), tz=\"America/New_York\").isoformat()\n",
    "end_date = pd.Timestamp(str(yesterday), tz=\"America/New_York\").isoformat()\n",
    "\n",
    "# Set number of rows to 1000 to retrieve the maximum amount of rows\n",
    "num_rows = 1000"
   ]
  },
  {
   "cell_type": "code",
   "execution_count": 48,
   "metadata": {},
   "outputs": [
    {
     "data": {
      "text/html": [
       "<div>\n",
       "<style scoped>\n",
       "    .dataframe tbody tr th:only-of-type {\n",
       "        vertical-align: middle;\n",
       "    }\n",
       "\n",
       "    .dataframe tbody tr th {\n",
       "        vertical-align: top;\n",
       "    }\n",
       "\n",
       "    .dataframe thead tr th {\n",
       "        text-align: left;\n",
       "    }\n",
       "\n",
       "    .dataframe thead tr:last-of-type th {\n",
       "        text-align: right;\n",
       "    }\n",
       "</style>\n",
       "<table border=\"1\" class=\"dataframe\">\n",
       "  <thead>\n",
       "    <tr>\n",
       "      <th></th>\n",
       "      <th colspan=\"7\" halign=\"left\">SPY</th>\n",
       "      <th colspan=\"7\" halign=\"left\">AGG</th>\n",
       "    </tr>\n",
       "    <tr>\n",
       "      <th></th>\n",
       "      <th>open</th>\n",
       "      <th>high</th>\n",
       "      <th>low</th>\n",
       "      <th>close</th>\n",
       "      <th>volume</th>\n",
       "      <th>trade_count</th>\n",
       "      <th>vwap</th>\n",
       "      <th>open</th>\n",
       "      <th>high</th>\n",
       "      <th>low</th>\n",
       "      <th>close</th>\n",
       "      <th>volume</th>\n",
       "      <th>trade_count</th>\n",
       "      <th>vwap</th>\n",
       "    </tr>\n",
       "    <tr>\n",
       "      <th>timestamp</th>\n",
       "      <th></th>\n",
       "      <th></th>\n",
       "      <th></th>\n",
       "      <th></th>\n",
       "      <th></th>\n",
       "      <th></th>\n",
       "      <th></th>\n",
       "      <th></th>\n",
       "      <th></th>\n",
       "      <th></th>\n",
       "      <th></th>\n",
       "      <th></th>\n",
       "      <th></th>\n",
       "      <th></th>\n",
       "    </tr>\n",
       "  </thead>\n",
       "  <tbody>\n",
       "    <tr>\n",
       "      <th>2019-04-22 04:00:00+00:00</th>\n",
       "      <td>289.17</td>\n",
       "      <td>290.435</td>\n",
       "      <td>289.0700</td>\n",
       "      <td>290.27</td>\n",
       "      <td>40520264</td>\n",
       "      <td>170767</td>\n",
       "      <td>290.002934</td>\n",
       "      <td>108.13</td>\n",
       "      <td>108.16</td>\n",
       "      <td>108.05</td>\n",
       "      <td>108.06</td>\n",
       "      <td>5725616</td>\n",
       "      <td>9161</td>\n",
       "      <td>108.098893</td>\n",
       "    </tr>\n",
       "    <tr>\n",
       "      <th>2019-04-23 04:00:00+00:00</th>\n",
       "      <td>290.68</td>\n",
       "      <td>293.140</td>\n",
       "      <td>290.4200</td>\n",
       "      <td>292.88</td>\n",
       "      <td>52411775</td>\n",
       "      <td>232023</td>\n",
       "      <td>292.102165</td>\n",
       "      <td>108.18</td>\n",
       "      <td>108.28</td>\n",
       "      <td>108.15</td>\n",
       "      <td>108.25</td>\n",
       "      <td>3422712</td>\n",
       "      <td>10779</td>\n",
       "      <td>108.236718</td>\n",
       "    </tr>\n",
       "    <tr>\n",
       "      <th>2019-04-24 04:00:00+00:00</th>\n",
       "      <td>292.76</td>\n",
       "      <td>293.160</td>\n",
       "      <td>292.0700</td>\n",
       "      <td>292.23</td>\n",
       "      <td>50469550</td>\n",
       "      <td>203858</td>\n",
       "      <td>292.580824</td>\n",
       "      <td>108.42</td>\n",
       "      <td>108.53</td>\n",
       "      <td>108.42</td>\n",
       "      <td>108.50</td>\n",
       "      <td>3000163</td>\n",
       "      <td>10192</td>\n",
       "      <td>108.496809</td>\n",
       "    </tr>\n",
       "    <tr>\n",
       "      <th>2019-04-25 04:00:00+00:00</th>\n",
       "      <td>292.12</td>\n",
       "      <td>292.780</td>\n",
       "      <td>290.7300</td>\n",
       "      <td>292.05</td>\n",
       "      <td>57875137</td>\n",
       "      <td>238260</td>\n",
       "      <td>292.051720</td>\n",
       "      <td>108.50</td>\n",
       "      <td>108.55</td>\n",
       "      <td>108.42</td>\n",
       "      <td>108.49</td>\n",
       "      <td>2648150</td>\n",
       "      <td>9121</td>\n",
       "      <td>108.473969</td>\n",
       "    </tr>\n",
       "    <tr>\n",
       "      <th>2019-04-26 04:00:00+00:00</th>\n",
       "      <td>292.12</td>\n",
       "      <td>293.490</td>\n",
       "      <td>291.2401</td>\n",
       "      <td>293.41</td>\n",
       "      <td>51449173</td>\n",
       "      <td>220594</td>\n",
       "      <td>292.642502</td>\n",
       "      <td>108.74</td>\n",
       "      <td>108.75</td>\n",
       "      <td>108.66</td>\n",
       "      <td>108.71</td>\n",
       "      <td>2300074</td>\n",
       "      <td>8664</td>\n",
       "      <td>108.705413</td>\n",
       "    </tr>\n",
       "  </tbody>\n",
       "</table>\n",
       "</div>"
      ],
      "text/plain": [
       "                              SPY                                       \\\n",
       "                             open     high       low   close    volume   \n",
       "timestamp                                                                \n",
       "2019-04-22 04:00:00+00:00  289.17  290.435  289.0700  290.27  40520264   \n",
       "2019-04-23 04:00:00+00:00  290.68  293.140  290.4200  292.88  52411775   \n",
       "2019-04-24 04:00:00+00:00  292.76  293.160  292.0700  292.23  50469550   \n",
       "2019-04-25 04:00:00+00:00  292.12  292.780  290.7300  292.05  57875137   \n",
       "2019-04-26 04:00:00+00:00  292.12  293.490  291.2401  293.41  51449173   \n",
       "\n",
       "                                                      AGG                  \\\n",
       "                          trade_count        vwap    open    high     low   \n",
       "timestamp                                                                   \n",
       "2019-04-22 04:00:00+00:00      170767  290.002934  108.13  108.16  108.05   \n",
       "2019-04-23 04:00:00+00:00      232023  292.102165  108.18  108.28  108.15   \n",
       "2019-04-24 04:00:00+00:00      203858  292.580824  108.42  108.53  108.42   \n",
       "2019-04-25 04:00:00+00:00      238260  292.051720  108.50  108.55  108.42   \n",
       "2019-04-26 04:00:00+00:00      220594  292.642502  108.74  108.75  108.66   \n",
       "\n",
       "                                                                    \n",
       "                            close   volume trade_count        vwap  \n",
       "timestamp                                                           \n",
       "2019-04-22 04:00:00+00:00  108.06  5725616        9161  108.098893  \n",
       "2019-04-23 04:00:00+00:00  108.25  3422712       10779  108.236718  \n",
       "2019-04-24 04:00:00+00:00  108.50  3000163       10192  108.496809  \n",
       "2019-04-25 04:00:00+00:00  108.49  2648150        9121  108.473969  \n",
       "2019-04-26 04:00:00+00:00  108.71  2300074        8664  108.705413  "
      ]
     },
     "execution_count": 48,
     "metadata": {},
     "output_type": "execute_result"
    }
   ],
   "source": [
    "# Use the Alpaca get_bars function to make the API call to get the 3 years worth of pricing data\n",
    "# The tickers and timeframe parameters should have been set in Part 1 of this activity \n",
    "# The start and end dates should be updated with the information set above\n",
    "# Remember to add the df property to the end of the call so the response is returned as a DataFrame\n",
    "df_data = alpaca.get_bars(\n",
    "    tickers,\n",
    "    timeframe,\n",
    "    start = start_date,\n",
    "    end = end_date\n",
    ").df\n",
    "\n",
    "# Reorganize the DataFrame\n",
    "# Separate ticker data\n",
    "SPY = df_data[df_data['symbol']=='SPY'].drop('symbol', axis=1)\n",
    "AGG = df_data[df_data['symbol']=='AGG'].drop('symbol', axis=1)\n",
    "\n",
    "# Concatenate the ticker DataFrames\n",
    "df_data = pd.concat([SPY, AGG],axis=1, keys=['SPY','AGG'])\n",
    "\n",
    "# Display both the first and last five rows of the DataFrame\n",
    "df_data.head()\n"
   ]
  },
  {
   "cell_type": "code",
   "execution_count": 49,
   "metadata": {},
   "outputs": [
    {
     "data": {
      "text/html": [
       "<div>\n",
       "<style scoped>\n",
       "    .dataframe tbody tr th:only-of-type {\n",
       "        vertical-align: middle;\n",
       "    }\n",
       "\n",
       "    .dataframe tbody tr th {\n",
       "        vertical-align: top;\n",
       "    }\n",
       "\n",
       "    .dataframe thead tr th {\n",
       "        text-align: left;\n",
       "    }\n",
       "\n",
       "    .dataframe thead tr:last-of-type th {\n",
       "        text-align: right;\n",
       "    }\n",
       "</style>\n",
       "<table border=\"1\" class=\"dataframe\">\n",
       "  <thead>\n",
       "    <tr>\n",
       "      <th></th>\n",
       "      <th colspan=\"7\" halign=\"left\">SPY</th>\n",
       "      <th colspan=\"7\" halign=\"left\">AGG</th>\n",
       "    </tr>\n",
       "    <tr>\n",
       "      <th></th>\n",
       "      <th>open</th>\n",
       "      <th>high</th>\n",
       "      <th>low</th>\n",
       "      <th>close</th>\n",
       "      <th>volume</th>\n",
       "      <th>trade_count</th>\n",
       "      <th>vwap</th>\n",
       "      <th>open</th>\n",
       "      <th>high</th>\n",
       "      <th>low</th>\n",
       "      <th>close</th>\n",
       "      <th>volume</th>\n",
       "      <th>trade_count</th>\n",
       "      <th>vwap</th>\n",
       "    </tr>\n",
       "    <tr>\n",
       "      <th>timestamp</th>\n",
       "      <th></th>\n",
       "      <th></th>\n",
       "      <th></th>\n",
       "      <th></th>\n",
       "      <th></th>\n",
       "      <th></th>\n",
       "      <th></th>\n",
       "      <th></th>\n",
       "      <th></th>\n",
       "      <th></th>\n",
       "      <th></th>\n",
       "      <th></th>\n",
       "      <th></th>\n",
       "      <th></th>\n",
       "    </tr>\n",
       "  </thead>\n",
       "  <tbody>\n",
       "    <tr>\n",
       "      <th>2022-04-14 04:00:00+00:00</th>\n",
       "      <td>443.44</td>\n",
       "      <td>444.7301</td>\n",
       "      <td>437.68</td>\n",
       "      <td>437.79</td>\n",
       "      <td>98667135</td>\n",
       "      <td>703727</td>\n",
       "      <td>440.305786</td>\n",
       "      <td>104.73</td>\n",
       "      <td>104.7400</td>\n",
       "      <td>103.930</td>\n",
       "      <td>103.97</td>\n",
       "      <td>8505987</td>\n",
       "      <td>30443</td>\n",
       "      <td>104.171733</td>\n",
       "    </tr>\n",
       "    <tr>\n",
       "      <th>2022-04-18 04:00:00+00:00</th>\n",
       "      <td>436.73</td>\n",
       "      <td>439.7500</td>\n",
       "      <td>435.61</td>\n",
       "      <td>437.97</td>\n",
       "      <td>65814949</td>\n",
       "      <td>573478</td>\n",
       "      <td>437.862483</td>\n",
       "      <td>103.97</td>\n",
       "      <td>104.0150</td>\n",
       "      <td>103.610</td>\n",
       "      <td>103.65</td>\n",
       "      <td>8630794</td>\n",
       "      <td>35583</td>\n",
       "      <td>103.732544</td>\n",
       "    </tr>\n",
       "    <tr>\n",
       "      <th>2022-04-19 04:00:00+00:00</th>\n",
       "      <td>437.87</td>\n",
       "      <td>445.8000</td>\n",
       "      <td>437.68</td>\n",
       "      <td>445.04</td>\n",
       "      <td>77678099</td>\n",
       "      <td>597840</td>\n",
       "      <td>443.072191</td>\n",
       "      <td>103.26</td>\n",
       "      <td>103.4264</td>\n",
       "      <td>102.974</td>\n",
       "      <td>103.02</td>\n",
       "      <td>7845969</td>\n",
       "      <td>32656</td>\n",
       "      <td>103.193615</td>\n",
       "    </tr>\n",
       "    <tr>\n",
       "      <th>2022-04-20 04:00:00+00:00</th>\n",
       "      <td>446.95</td>\n",
       "      <td>447.5700</td>\n",
       "      <td>443.48</td>\n",
       "      <td>444.71</td>\n",
       "      <td>64737457</td>\n",
       "      <td>591762</td>\n",
       "      <td>445.610168</td>\n",
       "      <td>103.36</td>\n",
       "      <td>103.7356</td>\n",
       "      <td>103.300</td>\n",
       "      <td>103.61</td>\n",
       "      <td>8434303</td>\n",
       "      <td>32866</td>\n",
       "      <td>103.528935</td>\n",
       "    </tr>\n",
       "    <tr>\n",
       "      <th>2022-04-21 04:00:00+00:00</th>\n",
       "      <td>448.58</td>\n",
       "      <td>450.0100</td>\n",
       "      <td>437.10</td>\n",
       "      <td>438.06</td>\n",
       "      <td>85097110</td>\n",
       "      <td>719682</td>\n",
       "      <td>442.772969</td>\n",
       "      <td>103.44</td>\n",
       "      <td>103.4700</td>\n",
       "      <td>102.790</td>\n",
       "      <td>103.04</td>\n",
       "      <td>11393860</td>\n",
       "      <td>35595</td>\n",
       "      <td>103.047589</td>\n",
       "    </tr>\n",
       "  </tbody>\n",
       "</table>\n",
       "</div>"
      ],
      "text/plain": [
       "                              SPY                                      \\\n",
       "                             open      high     low   close    volume   \n",
       "timestamp                                                               \n",
       "2022-04-14 04:00:00+00:00  443.44  444.7301  437.68  437.79  98667135   \n",
       "2022-04-18 04:00:00+00:00  436.73  439.7500  435.61  437.97  65814949   \n",
       "2022-04-19 04:00:00+00:00  437.87  445.8000  437.68  445.04  77678099   \n",
       "2022-04-20 04:00:00+00:00  446.95  447.5700  443.48  444.71  64737457   \n",
       "2022-04-21 04:00:00+00:00  448.58  450.0100  437.10  438.06  85097110   \n",
       "\n",
       "                                                      AGG                     \\\n",
       "                          trade_count        vwap    open      high      low   \n",
       "timestamp                                                                      \n",
       "2022-04-14 04:00:00+00:00      703727  440.305786  104.73  104.7400  103.930   \n",
       "2022-04-18 04:00:00+00:00      573478  437.862483  103.97  104.0150  103.610   \n",
       "2022-04-19 04:00:00+00:00      597840  443.072191  103.26  103.4264  102.974   \n",
       "2022-04-20 04:00:00+00:00      591762  445.610168  103.36  103.7356  103.300   \n",
       "2022-04-21 04:00:00+00:00      719682  442.772969  103.44  103.4700  102.790   \n",
       "\n",
       "                                                                     \n",
       "                            close    volume trade_count        vwap  \n",
       "timestamp                                                            \n",
       "2022-04-14 04:00:00+00:00  103.97   8505987       30443  104.171733  \n",
       "2022-04-18 04:00:00+00:00  103.65   8630794       35583  103.732544  \n",
       "2022-04-19 04:00:00+00:00  103.02   7845969       32656  103.193615  \n",
       "2022-04-20 04:00:00+00:00  103.61   8434303       32866  103.528935  \n",
       "2022-04-21 04:00:00+00:00  103.04  11393860       35595  103.047589  "
      ]
     },
     "execution_count": 49,
     "metadata": {},
     "output_type": "execute_result"
    }
   ],
   "source": [
    "df_data.tail()"
   ]
  },
  {
   "cell_type": "markdown",
   "metadata": {},
   "source": [
    "#### Step 2: Run a Monte Carlo simulation of 500 samples and 30 years for the 60/40 portfolio, and then plot the results."
   ]
  },
  {
   "cell_type": "code",
   "execution_count": 53,
   "metadata": {},
   "outputs": [],
   "source": [
    "# Configure the Monte Carlo simulation to forecast 30 years cumulative returns\n",
    "# The weights should be split 40% to AGG and 60% to SPY.\n",
    "# Run 500 samples.\n",
    "\n",
    "sample = 500\n",
    "weight = [0.6,0.4]\n",
    "days_trading = 30*252\n",
    "# Review the simulation input data\n",
    "simulation = MCSimulation(\n",
    "    portfolio_data=df_data,\n",
    "    weights= weight,\n",
    "    num_simulation= sample,\n",
    "    num_trading_days= days_trading)"
   ]
  },
  {
   "cell_type": "code",
   "execution_count": 54,
   "metadata": {},
   "outputs": [
    {
     "name": "stdout",
     "output_type": "stream",
     "text": [
      "Running Monte Carlo simulation number 0.\n",
      "Running Monte Carlo simulation number 10.\n",
      "Running Monte Carlo simulation number 20.\n",
      "Running Monte Carlo simulation number 30.\n",
      "Running Monte Carlo simulation number 40.\n",
      "Running Monte Carlo simulation number 50.\n",
      "Running Monte Carlo simulation number 60.\n",
      "Running Monte Carlo simulation number 70.\n",
      "Running Monte Carlo simulation number 80.\n",
      "Running Monte Carlo simulation number 90.\n",
      "Running Monte Carlo simulation number 100.\n"
     ]
    },
    {
     "name": "stderr",
     "output_type": "stream",
     "text": [
      "C:\\Users\\tiago\\OneDrive\\FinTechBootcamp\\FinTech_Challenges\\Assignment05\\Starter_Code\\MCForecastTools.py:117: PerformanceWarning: DataFrame is highly fragmented.  This is usually the result of calling `frame.insert` many times, which has poor performance.  Consider joining all columns at once using pd.concat(axis=1) instead.  To get a de-fragmented frame, use `newframe = frame.copy()`\n",
      "  portfolio_cumulative_returns[n] = (1 + sim_df.fillna(0)).cumprod()\n"
     ]
    },
    {
     "name": "stdout",
     "output_type": "stream",
     "text": [
      "Running Monte Carlo simulation number 110.\n",
      "Running Monte Carlo simulation number 120.\n",
      "Running Monte Carlo simulation number 130.\n",
      "Running Monte Carlo simulation number 140.\n",
      "Running Monte Carlo simulation number 150.\n",
      "Running Monte Carlo simulation number 160.\n",
      "Running Monte Carlo simulation number 170.\n",
      "Running Monte Carlo simulation number 180.\n",
      "Running Monte Carlo simulation number 190.\n",
      "Running Monte Carlo simulation number 200.\n",
      "Running Monte Carlo simulation number 210.\n",
      "Running Monte Carlo simulation number 220.\n",
      "Running Monte Carlo simulation number 230.\n",
      "Running Monte Carlo simulation number 240.\n",
      "Running Monte Carlo simulation number 250.\n",
      "Running Monte Carlo simulation number 260.\n",
      "Running Monte Carlo simulation number 270.\n",
      "Running Monte Carlo simulation number 280.\n",
      "Running Monte Carlo simulation number 290.\n",
      "Running Monte Carlo simulation number 300.\n",
      "Running Monte Carlo simulation number 310.\n",
      "Running Monte Carlo simulation number 320.\n",
      "Running Monte Carlo simulation number 330.\n",
      "Running Monte Carlo simulation number 340.\n",
      "Running Monte Carlo simulation number 350.\n",
      "Running Monte Carlo simulation number 360.\n",
      "Running Monte Carlo simulation number 370.\n",
      "Running Monte Carlo simulation number 380.\n",
      "Running Monte Carlo simulation number 390.\n",
      "Running Monte Carlo simulation number 400.\n",
      "Running Monte Carlo simulation number 410.\n",
      "Running Monte Carlo simulation number 420.\n",
      "Running Monte Carlo simulation number 430.\n",
      "Running Monte Carlo simulation number 440.\n",
      "Running Monte Carlo simulation number 450.\n",
      "Running Monte Carlo simulation number 460.\n",
      "Running Monte Carlo simulation number 470.\n",
      "Running Monte Carlo simulation number 480.\n",
      "Running Monte Carlo simulation number 490.\n"
     ]
    },
    {
     "data": {
      "text/html": [
       "<div>\n",
       "<style scoped>\n",
       "    .dataframe tbody tr th:only-of-type {\n",
       "        vertical-align: middle;\n",
       "    }\n",
       "\n",
       "    .dataframe tbody tr th {\n",
       "        vertical-align: top;\n",
       "    }\n",
       "\n",
       "    .dataframe thead th {\n",
       "        text-align: right;\n",
       "    }\n",
       "</style>\n",
       "<table border=\"1\" class=\"dataframe\">\n",
       "  <thead>\n",
       "    <tr style=\"text-align: right;\">\n",
       "      <th></th>\n",
       "      <th>0</th>\n",
       "      <th>1</th>\n",
       "      <th>2</th>\n",
       "      <th>3</th>\n",
       "      <th>4</th>\n",
       "      <th>5</th>\n",
       "      <th>6</th>\n",
       "      <th>7</th>\n",
       "      <th>8</th>\n",
       "      <th>9</th>\n",
       "      <th>...</th>\n",
       "      <th>490</th>\n",
       "      <th>491</th>\n",
       "      <th>492</th>\n",
       "      <th>493</th>\n",
       "      <th>494</th>\n",
       "      <th>495</th>\n",
       "      <th>496</th>\n",
       "      <th>497</th>\n",
       "      <th>498</th>\n",
       "      <th>499</th>\n",
       "    </tr>\n",
       "  </thead>\n",
       "  <tbody>\n",
       "    <tr>\n",
       "      <th>0</th>\n",
       "      <td>1.000000</td>\n",
       "      <td>1.000000</td>\n",
       "      <td>1.000000</td>\n",
       "      <td>1.000000</td>\n",
       "      <td>1.000000</td>\n",
       "      <td>1.000000</td>\n",
       "      <td>1.000000</td>\n",
       "      <td>1.000000</td>\n",
       "      <td>1.000000</td>\n",
       "      <td>1.000000</td>\n",
       "      <td>...</td>\n",
       "      <td>1.000000</td>\n",
       "      <td>1.000000</td>\n",
       "      <td>1.000000</td>\n",
       "      <td>1.000000</td>\n",
       "      <td>1.000000</td>\n",
       "      <td>1.000000</td>\n",
       "      <td>1.000000</td>\n",
       "      <td>1.000000</td>\n",
       "      <td>1.000000</td>\n",
       "      <td>1.000000</td>\n",
       "    </tr>\n",
       "    <tr>\n",
       "      <th>1</th>\n",
       "      <td>1.004443</td>\n",
       "      <td>0.991950</td>\n",
       "      <td>0.990856</td>\n",
       "      <td>0.994660</td>\n",
       "      <td>0.983785</td>\n",
       "      <td>1.005747</td>\n",
       "      <td>1.001756</td>\n",
       "      <td>1.012650</td>\n",
       "      <td>1.000518</td>\n",
       "      <td>0.990985</td>\n",
       "      <td>...</td>\n",
       "      <td>0.995802</td>\n",
       "      <td>0.995418</td>\n",
       "      <td>1.009039</td>\n",
       "      <td>0.985259</td>\n",
       "      <td>1.000192</td>\n",
       "      <td>1.006025</td>\n",
       "      <td>0.994268</td>\n",
       "      <td>0.985437</td>\n",
       "      <td>1.001368</td>\n",
       "      <td>0.998160</td>\n",
       "    </tr>\n",
       "    <tr>\n",
       "      <th>2</th>\n",
       "      <td>0.998317</td>\n",
       "      <td>1.004051</td>\n",
       "      <td>0.990530</td>\n",
       "      <td>0.998942</td>\n",
       "      <td>0.983654</td>\n",
       "      <td>1.012229</td>\n",
       "      <td>0.998870</td>\n",
       "      <td>1.021015</td>\n",
       "      <td>1.009404</td>\n",
       "      <td>0.986664</td>\n",
       "      <td>...</td>\n",
       "      <td>1.002938</td>\n",
       "      <td>0.988438</td>\n",
       "      <td>0.999755</td>\n",
       "      <td>0.989691</td>\n",
       "      <td>0.999213</td>\n",
       "      <td>1.013846</td>\n",
       "      <td>0.984116</td>\n",
       "      <td>0.975286</td>\n",
       "      <td>1.000735</td>\n",
       "      <td>0.992337</td>\n",
       "    </tr>\n",
       "    <tr>\n",
       "      <th>3</th>\n",
       "      <td>1.008711</td>\n",
       "      <td>1.008450</td>\n",
       "      <td>1.005867</td>\n",
       "      <td>1.013151</td>\n",
       "      <td>0.988257</td>\n",
       "      <td>1.011962</td>\n",
       "      <td>1.005876</td>\n",
       "      <td>1.019414</td>\n",
       "      <td>1.021241</td>\n",
       "      <td>1.001546</td>\n",
       "      <td>...</td>\n",
       "      <td>1.009137</td>\n",
       "      <td>0.976038</td>\n",
       "      <td>0.998331</td>\n",
       "      <td>0.979766</td>\n",
       "      <td>1.019291</td>\n",
       "      <td>1.009092</td>\n",
       "      <td>0.974164</td>\n",
       "      <td>0.960560</td>\n",
       "      <td>1.008027</td>\n",
       "      <td>0.990230</td>\n",
       "    </tr>\n",
       "    <tr>\n",
       "      <th>4</th>\n",
       "      <td>1.012443</td>\n",
       "      <td>1.006456</td>\n",
       "      <td>1.001991</td>\n",
       "      <td>1.023224</td>\n",
       "      <td>0.994928</td>\n",
       "      <td>1.003383</td>\n",
       "      <td>1.002812</td>\n",
       "      <td>1.031428</td>\n",
       "      <td>1.036688</td>\n",
       "      <td>0.994175</td>\n",
       "      <td>...</td>\n",
       "      <td>1.002269</td>\n",
       "      <td>0.979170</td>\n",
       "      <td>1.014961</td>\n",
       "      <td>0.980487</td>\n",
       "      <td>1.022443</td>\n",
       "      <td>1.015511</td>\n",
       "      <td>0.967439</td>\n",
       "      <td>0.952465</td>\n",
       "      <td>1.016993</td>\n",
       "      <td>0.993558</td>\n",
       "    </tr>\n",
       "    <tr>\n",
       "      <th>...</th>\n",
       "      <td>...</td>\n",
       "      <td>...</td>\n",
       "      <td>...</td>\n",
       "      <td>...</td>\n",
       "      <td>...</td>\n",
       "      <td>...</td>\n",
       "      <td>...</td>\n",
       "      <td>...</td>\n",
       "      <td>...</td>\n",
       "      <td>...</td>\n",
       "      <td>...</td>\n",
       "      <td>...</td>\n",
       "      <td>...</td>\n",
       "      <td>...</td>\n",
       "      <td>...</td>\n",
       "      <td>...</td>\n",
       "      <td>...</td>\n",
       "      <td>...</td>\n",
       "      <td>...</td>\n",
       "      <td>...</td>\n",
       "      <td>...</td>\n",
       "    </tr>\n",
       "    <tr>\n",
       "      <th>7556</th>\n",
       "      <td>55.955796</td>\n",
       "      <td>4.194383</td>\n",
       "      <td>8.149211</td>\n",
       "      <td>26.763795</td>\n",
       "      <td>2.945859</td>\n",
       "      <td>22.342853</td>\n",
       "      <td>4.054767</td>\n",
       "      <td>4.436589</td>\n",
       "      <td>21.350578</td>\n",
       "      <td>16.345719</td>\n",
       "      <td>...</td>\n",
       "      <td>14.790445</td>\n",
       "      <td>128.191113</td>\n",
       "      <td>3.771565</td>\n",
       "      <td>4.514519</td>\n",
       "      <td>19.915972</td>\n",
       "      <td>8.765494</td>\n",
       "      <td>12.049305</td>\n",
       "      <td>1.462318</td>\n",
       "      <td>45.369794</td>\n",
       "      <td>39.569414</td>\n",
       "    </tr>\n",
       "    <tr>\n",
       "      <th>7557</th>\n",
       "      <td>55.645621</td>\n",
       "      <td>4.191015</td>\n",
       "      <td>8.086982</td>\n",
       "      <td>26.229552</td>\n",
       "      <td>2.962771</td>\n",
       "      <td>22.143639</td>\n",
       "      <td>4.090137</td>\n",
       "      <td>4.499601</td>\n",
       "      <td>21.667594</td>\n",
       "      <td>16.304641</td>\n",
       "      <td>...</td>\n",
       "      <td>14.955704</td>\n",
       "      <td>128.810304</td>\n",
       "      <td>3.843476</td>\n",
       "      <td>4.525715</td>\n",
       "      <td>19.896449</td>\n",
       "      <td>8.800757</td>\n",
       "      <td>11.856046</td>\n",
       "      <td>1.470705</td>\n",
       "      <td>45.149684</td>\n",
       "      <td>39.534912</td>\n",
       "    </tr>\n",
       "    <tr>\n",
       "      <th>7558</th>\n",
       "      <td>55.840532</td>\n",
       "      <td>4.243839</td>\n",
       "      <td>8.028791</td>\n",
       "      <td>26.143114</td>\n",
       "      <td>2.942176</td>\n",
       "      <td>22.389060</td>\n",
       "      <td>4.113472</td>\n",
       "      <td>4.493597</td>\n",
       "      <td>21.790294</td>\n",
       "      <td>16.390949</td>\n",
       "      <td>...</td>\n",
       "      <td>15.012563</td>\n",
       "      <td>130.062822</td>\n",
       "      <td>3.822480</td>\n",
       "      <td>4.564056</td>\n",
       "      <td>19.886768</td>\n",
       "      <td>8.908639</td>\n",
       "      <td>11.864704</td>\n",
       "      <td>1.459116</td>\n",
       "      <td>44.678517</td>\n",
       "      <td>39.424876</td>\n",
       "    </tr>\n",
       "    <tr>\n",
       "      <th>7559</th>\n",
       "      <td>55.633306</td>\n",
       "      <td>4.251463</td>\n",
       "      <td>8.045081</td>\n",
       "      <td>26.285000</td>\n",
       "      <td>2.971485</td>\n",
       "      <td>22.612218</td>\n",
       "      <td>4.174932</td>\n",
       "      <td>4.495717</td>\n",
       "      <td>21.658192</td>\n",
       "      <td>16.288725</td>\n",
       "      <td>...</td>\n",
       "      <td>15.115723</td>\n",
       "      <td>132.446223</td>\n",
       "      <td>3.826365</td>\n",
       "      <td>4.562450</td>\n",
       "      <td>19.772606</td>\n",
       "      <td>8.797999</td>\n",
       "      <td>11.781668</td>\n",
       "      <td>1.450324</td>\n",
       "      <td>45.071402</td>\n",
       "      <td>39.395509</td>\n",
       "    </tr>\n",
       "    <tr>\n",
       "      <th>7560</th>\n",
       "      <td>55.608829</td>\n",
       "      <td>4.227937</td>\n",
       "      <td>8.059402</td>\n",
       "      <td>25.957800</td>\n",
       "      <td>3.031347</td>\n",
       "      <td>22.979731</td>\n",
       "      <td>4.200126</td>\n",
       "      <td>4.500477</td>\n",
       "      <td>21.866785</td>\n",
       "      <td>16.197558</td>\n",
       "      <td>...</td>\n",
       "      <td>15.354887</td>\n",
       "      <td>133.141005</td>\n",
       "      <td>3.793607</td>\n",
       "      <td>4.525430</td>\n",
       "      <td>19.726468</td>\n",
       "      <td>8.669542</td>\n",
       "      <td>11.858677</td>\n",
       "      <td>1.454578</td>\n",
       "      <td>45.308086</td>\n",
       "      <td>39.246425</td>\n",
       "    </tr>\n",
       "  </tbody>\n",
       "</table>\n",
       "<p>7561 rows × 500 columns</p>\n",
       "</div>"
      ],
      "text/plain": [
       "            0         1         2          3         4          5         6    \\\n",
       "0      1.000000  1.000000  1.000000   1.000000  1.000000   1.000000  1.000000   \n",
       "1      1.004443  0.991950  0.990856   0.994660  0.983785   1.005747  1.001756   \n",
       "2      0.998317  1.004051  0.990530   0.998942  0.983654   1.012229  0.998870   \n",
       "3      1.008711  1.008450  1.005867   1.013151  0.988257   1.011962  1.005876   \n",
       "4      1.012443  1.006456  1.001991   1.023224  0.994928   1.003383  1.002812   \n",
       "...         ...       ...       ...        ...       ...        ...       ...   \n",
       "7556  55.955796  4.194383  8.149211  26.763795  2.945859  22.342853  4.054767   \n",
       "7557  55.645621  4.191015  8.086982  26.229552  2.962771  22.143639  4.090137   \n",
       "7558  55.840532  4.243839  8.028791  26.143114  2.942176  22.389060  4.113472   \n",
       "7559  55.633306  4.251463  8.045081  26.285000  2.971485  22.612218  4.174932   \n",
       "7560  55.608829  4.227937  8.059402  25.957800  3.031347  22.979731  4.200126   \n",
       "\n",
       "           7          8          9    ...        490         491       492  \\\n",
       "0     1.000000   1.000000   1.000000  ...   1.000000    1.000000  1.000000   \n",
       "1     1.012650   1.000518   0.990985  ...   0.995802    0.995418  1.009039   \n",
       "2     1.021015   1.009404   0.986664  ...   1.002938    0.988438  0.999755   \n",
       "3     1.019414   1.021241   1.001546  ...   1.009137    0.976038  0.998331   \n",
       "4     1.031428   1.036688   0.994175  ...   1.002269    0.979170  1.014961   \n",
       "...        ...        ...        ...  ...        ...         ...       ...   \n",
       "7556  4.436589  21.350578  16.345719  ...  14.790445  128.191113  3.771565   \n",
       "7557  4.499601  21.667594  16.304641  ...  14.955704  128.810304  3.843476   \n",
       "7558  4.493597  21.790294  16.390949  ...  15.012563  130.062822  3.822480   \n",
       "7559  4.495717  21.658192  16.288725  ...  15.115723  132.446223  3.826365   \n",
       "7560  4.500477  21.866785  16.197558  ...  15.354887  133.141005  3.793607   \n",
       "\n",
       "           493        494       495        496       497        498        499  \n",
       "0     1.000000   1.000000  1.000000   1.000000  1.000000   1.000000   1.000000  \n",
       "1     0.985259   1.000192  1.006025   0.994268  0.985437   1.001368   0.998160  \n",
       "2     0.989691   0.999213  1.013846   0.984116  0.975286   1.000735   0.992337  \n",
       "3     0.979766   1.019291  1.009092   0.974164  0.960560   1.008027   0.990230  \n",
       "4     0.980487   1.022443  1.015511   0.967439  0.952465   1.016993   0.993558  \n",
       "...        ...        ...       ...        ...       ...        ...        ...  \n",
       "7556  4.514519  19.915972  8.765494  12.049305  1.462318  45.369794  39.569414  \n",
       "7557  4.525715  19.896449  8.800757  11.856046  1.470705  45.149684  39.534912  \n",
       "7558  4.564056  19.886768  8.908639  11.864704  1.459116  44.678517  39.424876  \n",
       "7559  4.562450  19.772606  8.797999  11.781668  1.450324  45.071402  39.395509  \n",
       "7560  4.525430  19.726468  8.669542  11.858677  1.454578  45.308086  39.246425  \n",
       "\n",
       "[7561 rows x 500 columns]"
      ]
     },
     "execution_count": 54,
     "metadata": {},
     "output_type": "execute_result"
    }
   ],
   "source": [
    "# Run the Monte Carlo simulation to forecast 30 years cumulative returns\n",
    "\n",
    "simulation.calc_cumulative_return()"
   ]
  },
  {
   "cell_type": "code",
   "execution_count": 55,
   "metadata": {},
   "outputs": [
    {
     "data": {
      "text/plain": [
       "<AxesSubplot:title={'center':'500 Simulations of Cumulative Portfolio Return Trajectories Over the Next 7560 Trading Days.'}>"
      ]
     },
     "execution_count": 55,
     "metadata": {},
     "output_type": "execute_result"
    },
    {
     "data": {
      "image/png": "[encoded data removed]",
      "text/plain": [
       "<Figure size 432x288 with 1 Axes>"
      ]
     },
     "metadata": {
      "needs_background": "light"
     },
     "output_type": "display_data"
    }
   ],
   "source": [
    "# Visualize the 30-year Monte Carlo simulation by creating an\n",
    "# overlay line plot\n",
    "simulation.plot_simulation()"
   ]
  },
  {
   "cell_type": "markdown",
   "metadata": {},
   "source": [
    "#### Step 3: Plot the probability distribution of the Monte Carlo simulation."
   ]
  },
  {
   "cell_type": "code",
   "execution_count": 56,
   "metadata": {},
   "outputs": [
    {
     "data": {
      "text/plain": [
       "<AxesSubplot:title={'center':'Distribution of Final Cumuluative Returns Across All 500 Simulations'}, ylabel='Frequency'>"
      ]
     },
     "execution_count": 56,
     "metadata": {},
     "output_type": "execute_result"
    },
    {
     "data": {
      "image/png": "[encoded data removed]",
      "text/plain": [
       "<Figure size 432x288 with 1 Axes>"
      ]
     },
     "metadata": {
      "needs_background": "light"
     },
     "output_type": "display_data"
    }
   ],
   "source": [
    "# Visualize the probability distribution of the 30-year Monte Carlo simulation \n",
    "# by plotting a histogram\n",
    "simulation.plot_distribution()\n"
   ]
  },
  {
   "cell_type": "markdown",
   "metadata": {},
   "source": [
    "#### Step 4: Generate the summary statistics for the Monte Carlo simulation."
   ]
  },
  {
   "cell_type": "code",
   "execution_count": 57,
   "metadata": {},
   "outputs": [
    {
     "name": "stdout",
     "output_type": "stream",
     "text": [
      "count           500.000000\n",
      "mean             16.310781\n",
      "std              15.944750\n",
      "min               1.454468\n",
      "25%               7.582790\n",
      "50%              12.193172\n",
      "75%              19.653395\n",
      "max             168.592418\n",
      "95% CI Lower      3.226736\n",
      "95% CI Upper     53.708156\n",
      "Name: 7560, dtype: float64\n"
     ]
    }
   ],
   "source": [
    "# Generate summary statistics from the 30-year Monte Carlo simulation results\n",
    "# Save the results as a variable\n",
    "results = simulation.summarize_cumulative_return()\n",
    "\n",
    "# Review the 30-year Monte Carlo summary statistics\n",
    "print(results)"
   ]
  },
  {
   "cell_type": "markdown",
   "metadata": {},
   "source": [
    "### Analyze the Retirement Portfolio Forecasts\n",
    "\n",
    "Using the current value of only the stock and bond portion of the member's portfolio and the summary statistics that you generated from the Monte Carlo simulation, answer the following question in your Jupyter notebook:\n",
    "\n",
    "-  What are the lower and upper bounds for the expected value of the portfolio with a 95% confidence interval?\n"
   ]
  },
  {
   "cell_type": "code",
   "execution_count": 61,
   "metadata": {},
   "outputs": [
    {
     "name": "stdout",
     "output_type": "stream",
     "text": [
      "Portfolio % in stock = 60.0%\n",
      "Portfolio % in bonds = 40.0%\n"
     ]
    }
   ],
   "source": [
    "# Print the current balance of the stock and bond portion of the members portfolio\n",
    "print(f'Portfolio % in stock = {weight[0]*100}%')\n",
    "print(f'Portfolio % in bonds = {weight[1]*100}%')\n"
   ]
  },
  {
   "cell_type": "code",
   "execution_count": 59,
   "metadata": {},
   "outputs": [
    {
     "name": "stdout",
     "output_type": "stream",
     "text": [
      "30Y lower bound return = 3.2267360732433277\n",
      "30Y upper bound return = 53.70815619366613\n"
     ]
    }
   ],
   "source": [
    "# Use the lower and upper `95%` confidence intervals to calculate the range of the possible outcomes for the current stock/bond portfolio\n",
    "ci_lower_thirty_cumulative_return = results[8]\n",
    "ci_upper_thirty_cumulative_return = results[9]\n",
    "\n",
    "# Print the result of your calculations\n",
    "print(f'30Y lower bound return = {ci_lower_thirty_cumulative_return}')\n",
    "print(f'30Y upper bound return = {ci_upper_thirty_cumulative_return}')\n"
   ]
  },
  {
   "cell_type": "markdown",
   "metadata": {},
   "source": [
    "### Forecast Cumulative Returns in 10 Years\n",
    "\n",
    "The CTO of the credit union is impressed with your work on these planning tools but wonders if 30 years is a long time to wait until retirement. So, your next task is to adjust the retirement portfolio and run a new Monte Carlo simulation to find out if the changes will allow members to retire earlier.\n",
    "\n",
    "For this new Monte Carlo simulation, do the following: \n",
    "\n",
    "- Forecast the cumulative returns for 10 years from now. Because of the shortened investment horizon (30 years to 10 years), the portfolio needs to invest more heavily in the riskier asset&mdash;that is, stock&mdash;to help accumulate wealth for retirement. \n",
    "\n",
    "- Adjust the weights of the retirement portfolio so that the composition for the Monte Carlo simulation consists of 20% bonds and 80% stocks. \n",
    "\n",
    "- Run the simulation over 500 samples, and use the same data that the API call to Alpaca generated.\n",
    "\n",
    "- Based on the new Monte Carlo simulation, answer the following questions in your Jupyter notebook:\n",
    "\n",
    "    - Using the current value of only the stock and bond portion of the member's portfolio and the summary statistics that you generated from the new Monte Carlo simulation, what are the lower and upper bounds for the expected value of the portfolio (with the new weights) with a 95% confidence interval?\n",
    "\n",
    "    - Will weighting the portfolio more heavily toward stocks allow the credit union members to retire after only 10 years?\n"
   ]
  },
  {
   "cell_type": "code",
   "execution_count": 62,
   "metadata": {},
   "outputs": [],
   "source": [
    "# Configure a Monte Carlo simulation to forecast 10 years cumulative returns\n",
    "# The weights should be split 20% to AGG and 80% to SPY.\n",
    "# Run 500 samples.\n",
    "sample = 500\n",
    "weight2 = [0.8,0.2]\n",
    "days_trading2 = 10*252\n",
    "# Review the simulation input data\n",
    "simulation2 = MCSimulation(\n",
    "    portfolio_data=df_data,\n",
    "    weights= weight2,\n",
    "    num_simulation= sample,\n",
    "    num_trading_days= days_trading2)\n"
   ]
  },
  {
   "cell_type": "code",
   "execution_count": 63,
   "metadata": {},
   "outputs": [
    {
     "name": "stdout",
     "output_type": "stream",
     "text": [
      "Running Monte Carlo simulation number 0.\n",
      "Running Monte Carlo simulation number 10.\n",
      "Running Monte Carlo simulation number 20.\n",
      "Running Monte Carlo simulation number 30.\n",
      "Running Monte Carlo simulation number 40.\n",
      "Running Monte Carlo simulation number 50.\n",
      "Running Monte Carlo simulation number 60.\n",
      "Running Monte Carlo simulation number 70.\n",
      "Running Monte Carlo simulation number 80.\n",
      "Running Monte Carlo simulation number 90.\n",
      "Running Monte Carlo simulation number 100.\n"
     ]
    },
    {
     "name": "stderr",
     "output_type": "stream",
     "text": [
      "C:\\Users\\tiago\\OneDrive\\FinTechBootcamp\\FinTech_Challenges\\Assignment05\\Starter_Code\\MCForecastTools.py:117: PerformanceWarning: DataFrame is highly fragmented.  This is usually the result of calling `frame.insert` many times, which has poor performance.  Consider joining all columns at once using pd.concat(axis=1) instead.  To get a de-fragmented frame, use `newframe = frame.copy()`\n",
      "  portfolio_cumulative_returns[n] = (1 + sim_df.fillna(0)).cumprod()\n"
     ]
    },
    {
     "name": "stdout",
     "output_type": "stream",
     "text": [
      "Running Monte Carlo simulation number 110.\n",
      "Running Monte Carlo simulation number 120.\n",
      "Running Monte Carlo simulation number 130.\n",
      "Running Monte Carlo simulation number 140.\n",
      "Running Monte Carlo simulation number 150.\n",
      "Running Monte Carlo simulation number 160.\n",
      "Running Monte Carlo simulation number 170.\n",
      "Running Monte Carlo simulation number 180.\n",
      "Running Monte Carlo simulation number 190.\n",
      "Running Monte Carlo simulation number 200.\n",
      "Running Monte Carlo simulation number 210.\n",
      "Running Monte Carlo simulation number 220.\n",
      "Running Monte Carlo simulation number 230.\n",
      "Running Monte Carlo simulation number 240.\n",
      "Running Monte Carlo simulation number 250.\n",
      "Running Monte Carlo simulation number 260.\n",
      "Running Monte Carlo simulation number 270.\n",
      "Running Monte Carlo simulation number 280.\n",
      "Running Monte Carlo simulation number 290.\n",
      "Running Monte Carlo simulation number 300.\n",
      "Running Monte Carlo simulation number 310.\n",
      "Running Monte Carlo simulation number 320.\n",
      "Running Monte Carlo simulation number 330.\n",
      "Running Monte Carlo simulation number 340.\n",
      "Running Monte Carlo simulation number 350.\n",
      "Running Monte Carlo simulation number 360.\n",
      "Running Monte Carlo simulation number 370.\n",
      "Running Monte Carlo simulation number 380.\n",
      "Running Monte Carlo simulation number 390.\n",
      "Running Monte Carlo simulation number 400.\n",
      "Running Monte Carlo simulation number 410.\n",
      "Running Monte Carlo simulation number 420.\n",
      "Running Monte Carlo simulation number 430.\n",
      "Running Monte Carlo simulation number 440.\n",
      "Running Monte Carlo simulation number 450.\n",
      "Running Monte Carlo simulation number 460.\n",
      "Running Monte Carlo simulation number 470.\n",
      "Running Monte Carlo simulation number 480.\n",
      "Running Monte Carlo simulation number 490.\n"
     ]
    },
    {
     "data": {
      "text/html": [
       "<div>\n",
       "<style scoped>\n",
       "    .dataframe tbody tr th:only-of-type {\n",
       "        vertical-align: middle;\n",
       "    }\n",
       "\n",
       "    .dataframe tbody tr th {\n",
       "        vertical-align: top;\n",
       "    }\n",
       "\n",
       "    .dataframe thead th {\n",
       "        text-align: right;\n",
       "    }\n",
       "</style>\n",
       "<table border=\"1\" class=\"dataframe\">\n",
       "  <thead>\n",
       "    <tr style=\"text-align: right;\">\n",
       "      <th></th>\n",
       "      <th>0</th>\n",
       "      <th>1</th>\n",
       "      <th>2</th>\n",
       "      <th>3</th>\n",
       "      <th>4</th>\n",
       "      <th>5</th>\n",
       "      <th>6</th>\n",
       "      <th>7</th>\n",
       "      <th>8</th>\n",
       "      <th>9</th>\n",
       "      <th>...</th>\n",
       "      <th>490</th>\n",
       "      <th>491</th>\n",
       "      <th>492</th>\n",
       "      <th>493</th>\n",
       "      <th>494</th>\n",
       "      <th>495</th>\n",
       "      <th>496</th>\n",
       "      <th>497</th>\n",
       "      <th>498</th>\n",
       "      <th>499</th>\n",
       "    </tr>\n",
       "  </thead>\n",
       "  <tbody>\n",
       "    <tr>\n",
       "      <th>0</th>\n",
       "      <td>1.000000</td>\n",
       "      <td>1.000000</td>\n",
       "      <td>1.000000</td>\n",
       "      <td>1.000000</td>\n",
       "      <td>1.000000</td>\n",
       "      <td>1.000000</td>\n",
       "      <td>1.000000</td>\n",
       "      <td>1.000000</td>\n",
       "      <td>1.000000</td>\n",
       "      <td>1.000000</td>\n",
       "      <td>...</td>\n",
       "      <td>1.000000</td>\n",
       "      <td>1.000000</td>\n",
       "      <td>1.000000</td>\n",
       "      <td>1.000000</td>\n",
       "      <td>1.000000</td>\n",
       "      <td>1.000000</td>\n",
       "      <td>1.000000</td>\n",
       "      <td>1.000000</td>\n",
       "      <td>1.000000</td>\n",
       "      <td>1.000000</td>\n",
       "    </tr>\n",
       "    <tr>\n",
       "      <th>1</th>\n",
       "      <td>1.003132</td>\n",
       "      <td>0.997443</td>\n",
       "      <td>0.979413</td>\n",
       "      <td>0.978285</td>\n",
       "      <td>1.019769</td>\n",
       "      <td>0.990294</td>\n",
       "      <td>1.012278</td>\n",
       "      <td>0.995993</td>\n",
       "      <td>1.006581</td>\n",
       "      <td>0.991734</td>\n",
       "      <td>...</td>\n",
       "      <td>1.002747</td>\n",
       "      <td>1.012383</td>\n",
       "      <td>0.978289</td>\n",
       "      <td>0.994563</td>\n",
       "      <td>1.002596</td>\n",
       "      <td>1.001878</td>\n",
       "      <td>1.024178</td>\n",
       "      <td>1.011262</td>\n",
       "      <td>0.990168</td>\n",
       "      <td>1.016052</td>\n",
       "    </tr>\n",
       "    <tr>\n",
       "      <th>2</th>\n",
       "      <td>1.011087</td>\n",
       "      <td>1.012052</td>\n",
       "      <td>0.982300</td>\n",
       "      <td>0.986872</td>\n",
       "      <td>1.012531</td>\n",
       "      <td>0.995426</td>\n",
       "      <td>1.017641</td>\n",
       "      <td>1.004248</td>\n",
       "      <td>1.023255</td>\n",
       "      <td>1.002792</td>\n",
       "      <td>...</td>\n",
       "      <td>1.003671</td>\n",
       "      <td>1.014303</td>\n",
       "      <td>0.974781</td>\n",
       "      <td>0.982082</td>\n",
       "      <td>1.006737</td>\n",
       "      <td>1.009838</td>\n",
       "      <td>1.052273</td>\n",
       "      <td>1.006466</td>\n",
       "      <td>1.005296</td>\n",
       "      <td>1.033903</td>\n",
       "    </tr>\n",
       "    <tr>\n",
       "      <th>3</th>\n",
       "      <td>1.029532</td>\n",
       "      <td>1.024877</td>\n",
       "      <td>0.978992</td>\n",
       "      <td>0.979992</td>\n",
       "      <td>1.036813</td>\n",
       "      <td>1.000986</td>\n",
       "      <td>1.022170</td>\n",
       "      <td>0.999791</td>\n",
       "      <td>1.029772</td>\n",
       "      <td>1.022446</td>\n",
       "      <td>...</td>\n",
       "      <td>1.005358</td>\n",
       "      <td>1.018739</td>\n",
       "      <td>0.992605</td>\n",
       "      <td>0.995443</td>\n",
       "      <td>1.015907</td>\n",
       "      <td>0.997890</td>\n",
       "      <td>1.069107</td>\n",
       "      <td>1.021577</td>\n",
       "      <td>1.009726</td>\n",
       "      <td>1.028614</td>\n",
       "    </tr>\n",
       "    <tr>\n",
       "      <th>4</th>\n",
       "      <td>1.039431</td>\n",
       "      <td>1.042147</td>\n",
       "      <td>0.977567</td>\n",
       "      <td>0.981093</td>\n",
       "      <td>1.039042</td>\n",
       "      <td>0.996782</td>\n",
       "      <td>1.038019</td>\n",
       "      <td>0.996172</td>\n",
       "      <td>1.055823</td>\n",
       "      <td>1.031302</td>\n",
       "      <td>...</td>\n",
       "      <td>1.028393</td>\n",
       "      <td>1.042549</td>\n",
       "      <td>0.986123</td>\n",
       "      <td>1.007052</td>\n",
       "      <td>1.016734</td>\n",
       "      <td>1.006754</td>\n",
       "      <td>1.084400</td>\n",
       "      <td>1.024941</td>\n",
       "      <td>1.017729</td>\n",
       "      <td>1.025869</td>\n",
       "    </tr>\n",
       "    <tr>\n",
       "      <th>...</th>\n",
       "      <td>...</td>\n",
       "      <td>...</td>\n",
       "      <td>...</td>\n",
       "      <td>...</td>\n",
       "      <td>...</td>\n",
       "      <td>...</td>\n",
       "      <td>...</td>\n",
       "      <td>...</td>\n",
       "      <td>...</td>\n",
       "      <td>...</td>\n",
       "      <td>...</td>\n",
       "      <td>...</td>\n",
       "      <td>...</td>\n",
       "      <td>...</td>\n",
       "      <td>...</td>\n",
       "      <td>...</td>\n",
       "      <td>...</td>\n",
       "      <td>...</td>\n",
       "      <td>...</td>\n",
       "      <td>...</td>\n",
       "      <td>...</td>\n",
       "    </tr>\n",
       "    <tr>\n",
       "      <th>2516</th>\n",
       "      <td>2.055458</td>\n",
       "      <td>2.370547</td>\n",
       "      <td>6.899777</td>\n",
       "      <td>3.127879</td>\n",
       "      <td>3.211606</td>\n",
       "      <td>1.274829</td>\n",
       "      <td>2.295667</td>\n",
       "      <td>2.720687</td>\n",
       "      <td>5.727448</td>\n",
       "      <td>10.754037</td>\n",
       "      <td>...</td>\n",
       "      <td>2.383175</td>\n",
       "      <td>4.257575</td>\n",
       "      <td>2.744576</td>\n",
       "      <td>1.739307</td>\n",
       "      <td>1.860744</td>\n",
       "      <td>3.938385</td>\n",
       "      <td>2.831835</td>\n",
       "      <td>2.241621</td>\n",
       "      <td>1.979219</td>\n",
       "      <td>1.838886</td>\n",
       "    </tr>\n",
       "    <tr>\n",
       "      <th>2517</th>\n",
       "      <td>2.069328</td>\n",
       "      <td>2.347660</td>\n",
       "      <td>6.763063</td>\n",
       "      <td>3.193797</td>\n",
       "      <td>3.300521</td>\n",
       "      <td>1.278241</td>\n",
       "      <td>2.281865</td>\n",
       "      <td>2.699214</td>\n",
       "      <td>5.820256</td>\n",
       "      <td>10.948187</td>\n",
       "      <td>...</td>\n",
       "      <td>2.373118</td>\n",
       "      <td>4.235396</td>\n",
       "      <td>2.729260</td>\n",
       "      <td>1.706114</td>\n",
       "      <td>1.892206</td>\n",
       "      <td>4.006331</td>\n",
       "      <td>2.839101</td>\n",
       "      <td>2.218233</td>\n",
       "      <td>1.942868</td>\n",
       "      <td>1.847068</td>\n",
       "    </tr>\n",
       "    <tr>\n",
       "      <th>2518</th>\n",
       "      <td>2.111797</td>\n",
       "      <td>2.339871</td>\n",
       "      <td>6.817054</td>\n",
       "      <td>3.185202</td>\n",
       "      <td>3.261937</td>\n",
       "      <td>1.253122</td>\n",
       "      <td>2.285869</td>\n",
       "      <td>2.682148</td>\n",
       "      <td>5.820729</td>\n",
       "      <td>10.974318</td>\n",
       "      <td>...</td>\n",
       "      <td>2.365489</td>\n",
       "      <td>4.160917</td>\n",
       "      <td>2.738778</td>\n",
       "      <td>1.682512</td>\n",
       "      <td>1.867568</td>\n",
       "      <td>3.994249</td>\n",
       "      <td>2.875077</td>\n",
       "      <td>2.218026</td>\n",
       "      <td>1.889084</td>\n",
       "      <td>1.843597</td>\n",
       "    </tr>\n",
       "    <tr>\n",
       "      <th>2519</th>\n",
       "      <td>2.130048</td>\n",
       "      <td>2.385178</td>\n",
       "      <td>6.811816</td>\n",
       "      <td>3.219673</td>\n",
       "      <td>3.222924</td>\n",
       "      <td>1.247048</td>\n",
       "      <td>2.309358</td>\n",
       "      <td>2.698436</td>\n",
       "      <td>5.842116</td>\n",
       "      <td>10.879509</td>\n",
       "      <td>...</td>\n",
       "      <td>2.387551</td>\n",
       "      <td>4.177236</td>\n",
       "      <td>2.745107</td>\n",
       "      <td>1.707829</td>\n",
       "      <td>1.877628</td>\n",
       "      <td>3.977877</td>\n",
       "      <td>2.901166</td>\n",
       "      <td>2.270342</td>\n",
       "      <td>1.843356</td>\n",
       "      <td>1.851706</td>\n",
       "    </tr>\n",
       "    <tr>\n",
       "      <th>2520</th>\n",
       "      <td>2.147337</td>\n",
       "      <td>2.401624</td>\n",
       "      <td>6.741235</td>\n",
       "      <td>3.220637</td>\n",
       "      <td>3.245270</td>\n",
       "      <td>1.224286</td>\n",
       "      <td>2.263747</td>\n",
       "      <td>2.729079</td>\n",
       "      <td>5.844623</td>\n",
       "      <td>10.915790</td>\n",
       "      <td>...</td>\n",
       "      <td>2.393571</td>\n",
       "      <td>4.202235</td>\n",
       "      <td>2.754494</td>\n",
       "      <td>1.721638</td>\n",
       "      <td>1.891363</td>\n",
       "      <td>3.989512</td>\n",
       "      <td>2.936329</td>\n",
       "      <td>2.273927</td>\n",
       "      <td>1.793423</td>\n",
       "      <td>1.816814</td>\n",
       "    </tr>\n",
       "  </tbody>\n",
       "</table>\n",
       "<p>2521 rows × 500 columns</p>\n",
       "</div>"
      ],
      "text/plain": [
       "           0         1         2         3         4         5         6    \\\n",
       "0     1.000000  1.000000  1.000000  1.000000  1.000000  1.000000  1.000000   \n",
       "1     1.003132  0.997443  0.979413  0.978285  1.019769  0.990294  1.012278   \n",
       "2     1.011087  1.012052  0.982300  0.986872  1.012531  0.995426  1.017641   \n",
       "3     1.029532  1.024877  0.978992  0.979992  1.036813  1.000986  1.022170   \n",
       "4     1.039431  1.042147  0.977567  0.981093  1.039042  0.996782  1.038019   \n",
       "...        ...       ...       ...       ...       ...       ...       ...   \n",
       "2516  2.055458  2.370547  6.899777  3.127879  3.211606  1.274829  2.295667   \n",
       "2517  2.069328  2.347660  6.763063  3.193797  3.300521  1.278241  2.281865   \n",
       "2518  2.111797  2.339871  6.817054  3.185202  3.261937  1.253122  2.285869   \n",
       "2519  2.130048  2.385178  6.811816  3.219673  3.222924  1.247048  2.309358   \n",
       "2520  2.147337  2.401624  6.741235  3.220637  3.245270  1.224286  2.263747   \n",
       "\n",
       "           7         8          9    ...       490       491       492  \\\n",
       "0     1.000000  1.000000   1.000000  ...  1.000000  1.000000  1.000000   \n",
       "1     0.995993  1.006581   0.991734  ...  1.002747  1.012383  0.978289   \n",
       "2     1.004248  1.023255   1.002792  ...  1.003671  1.014303  0.974781   \n",
       "3     0.999791  1.029772   1.022446  ...  1.005358  1.018739  0.992605   \n",
       "4     0.996172  1.055823   1.031302  ...  1.028393  1.042549  0.986123   \n",
       "...        ...       ...        ...  ...       ...       ...       ...   \n",
       "2516  2.720687  5.727448  10.754037  ...  2.383175  4.257575  2.744576   \n",
       "2517  2.699214  5.820256  10.948187  ...  2.373118  4.235396  2.729260   \n",
       "2518  2.682148  5.820729  10.974318  ...  2.365489  4.160917  2.738778   \n",
       "2519  2.698436  5.842116  10.879509  ...  2.387551  4.177236  2.745107   \n",
       "2520  2.729079  5.844623  10.915790  ...  2.393571  4.202235  2.754494   \n",
       "\n",
       "           493       494       495       496       497       498       499  \n",
       "0     1.000000  1.000000  1.000000  1.000000  1.000000  1.000000  1.000000  \n",
       "1     0.994563  1.002596  1.001878  1.024178  1.011262  0.990168  1.016052  \n",
       "2     0.982082  1.006737  1.009838  1.052273  1.006466  1.005296  1.033903  \n",
       "3     0.995443  1.015907  0.997890  1.069107  1.021577  1.009726  1.028614  \n",
       "4     1.007052  1.016734  1.006754  1.084400  1.024941  1.017729  1.025869  \n",
       "...        ...       ...       ...       ...       ...       ...       ...  \n",
       "2516  1.739307  1.860744  3.938385  2.831835  2.241621  1.979219  1.838886  \n",
       "2517  1.706114  1.892206  4.006331  2.839101  2.218233  1.942868  1.847068  \n",
       "2518  1.682512  1.867568  3.994249  2.875077  2.218026  1.889084  1.843597  \n",
       "2519  1.707829  1.877628  3.977877  2.901166  2.270342  1.843356  1.851706  \n",
       "2520  1.721638  1.891363  3.989512  2.936329  2.273927  1.793423  1.816814  \n",
       "\n",
       "[2521 rows x 500 columns]"
      ]
     },
     "execution_count": 63,
     "metadata": {},
     "output_type": "execute_result"
    }
   ],
   "source": [
    "# Run the Monte Carlo simulation to forecast 10 years cumulative returns\n",
    "simulation2.calc_cumulative_return()\n"
   ]
  },
  {
   "cell_type": "code",
   "execution_count": 64,
   "metadata": {},
   "outputs": [
    {
     "data": {
      "text/plain": [
       "<AxesSubplot:title={'center':'500 Simulations of Cumulative Portfolio Return Trajectories Over the Next 2520 Trading Days.'}>"
      ]
     },
     "execution_count": 64,
     "metadata": {},
     "output_type": "execute_result"
    },
    {
     "data": {
      "image/png": "[encoded data removed]",
      "text/plain": [
       "<Figure size 432x288 with 1 Axes>"
      ]
     },
     "metadata": {
      "needs_background": "light"
     },
     "output_type": "display_data"
    }
   ],
   "source": [
    "# Visualize the 10-year Monte Carlo simulation by creating an\n",
    "# overlay line plot\n",
    "simulation2.plot_simulation()"
   ]
  },
  {
   "cell_type": "code",
   "execution_count": 65,
   "metadata": {},
   "outputs": [
    {
     "data": {
      "text/plain": [
       "<AxesSubplot:title={'center':'Distribution of Final Cumuluative Returns Across All 500 Simulations'}, ylabel='Frequency'>"
      ]
     },
     "execution_count": 65,
     "metadata": {},
     "output_type": "execute_result"
    },
    {
     "data": {
      "image/png": "[encoded data removed]",
      "text/plain": [
       "<Figure size 432x288 with 1 Axes>"
      ]
     },
     "metadata": {
      "needs_background": "light"
     },
     "output_type": "display_data"
    }
   ],
   "source": [
    "# Visualize the probability distribution of the 10-year Monte Carlo simulation \n",
    "# by plotting a histogram\n",
    "# YOUR CODE HERE\n",
    "simulation2.plot_distribution()"
   ]
  },
  {
   "cell_type": "code",
   "execution_count": 66,
   "metadata": {},
   "outputs": [
    {
     "name": "stdout",
     "output_type": "stream",
     "text": [
      "count           500.000000\n",
      "mean              3.593681\n",
      "std               2.037920\n",
      "min               0.423069\n",
      "25%               2.180799\n",
      "50%               3.112987\n",
      "75%               4.474282\n",
      "max              13.164726\n",
      "95% CI Lower      1.031127\n",
      "95% CI Upper      8.543661\n",
      "Name: 2520, dtype: float64\n"
     ]
    }
   ],
   "source": [
    "# Generate summary statistics from the 10-year Monte Carlo simulation results\n",
    "# Save the results as a variable\n",
    "results2 = simulation2.summarize_cumulative_return()\n",
    "\n",
    "\n",
    "# Review summarize_cumulative_return10-year Monte Carlo summary statistics\n",
    "print(results2)"
   ]
  },
  {
   "cell_type": "markdown",
   "metadata": {},
   "source": [
    "### Answer the following questions:"
   ]
  },
  {
   "cell_type": "markdown",
   "metadata": {},
   "source": [
    "#### Question: Using the current value of only the stock and bond portion of the member's portfolio and the summary statistics that you generated from the new Monte Carlo simulation, what are the lower and upper bounds for the expected value of the portfolio (with the new weights) with a 95% confidence interval?"
   ]
  },
  {
   "cell_type": "code",
   "execution_count": null,
   "metadata": {},
   "outputs": [],
   "source": [
    "# Print the current balance of the stock and bond portion of the members portfolio\n",
    "print(f'Portfolio % in stock = {weight2[0]*100}%')\n",
    "print(f'Portfolio % in bonds = {weight2[1]*100}%')\n"
   ]
  },
  {
   "cell_type": "code",
   "execution_count": 68,
   "metadata": {},
   "outputs": [
    {
     "name": "stdout",
     "output_type": "stream",
     "text": [
      "10Y lower bound return = 1.0311274829021944\n",
      "10Y upper bound return = 8.543661313391263\n"
     ]
    }
   ],
   "source": [
    "# Use the lower and upper `95%` confidence intervals to calculate the range of the possible outcomes for the current stock/bond portfolio\n",
    "ci_lower_ten_cumulative_return = results2[8]\n",
    "ci_upper_ten_cumulative_return = results2[9]\n",
    "\n",
    "# Print the result of your calculations\n",
    "# Print the result of your calculations\n",
    "print(f'10Y lower bound return = {ci_lower_ten_cumulative_return}')\n",
    "print(f'10Y upper bound return = {ci_upper_ten_cumulative_return}')\n"
   ]
  },
  {
   "cell_type": "markdown",
   "metadata": {},
   "source": [
    "#### Question: Will weighting the portfolio more heavily to stocks allow the credit union members to retire after only 10 years?"
   ]
  },
  {
   "cell_type": "markdown",
   "metadata": {},
   "source": [
    "**Answer** It depends! Despite this is the most political answer to the above question, answering it would require to have the baseline objective of the retirement in terms of wealth creation at the end of the period, reason why I have no baseline to compare both assessments. Nevertheless, we can see reducing the time window, despite move the portfolio towards stocks, would bring a return 5x lower than initial 30Y investment. Personally, given the fact that both distributions are very skewed to the right I would tend to wait a little bit longer and get a higher return amount. Probably to achieve that I would keep the 10Y weight strategy but shorten the 30Y to something between 15 to 20 and balance that way the overall returns. For me the risk by looking into the distributions is that the mode and the median are far below the mean. It means that there is a higher change of getting return values below the mean."
   ]
  },
  {
   "cell_type": "code",
   "execution_count": null,
   "metadata": {},
   "outputs": [],
   "source": []
  }
 ],
 "metadata": {
  "kernelspec": {
   "display_name": "FinTech",
   "language": "python",
   "name": "fintech"
  },
  "language_info": {
   "codemirror_mode": {
    "name": "ipython",
    "version": 3
   },
   "file_extension": ".py",
   "mimetype": "text/x-python",
   "name": "python",
   "nbconvert_exporter": "python",
   "pygments_lexer": "ipython3",
   "version": "3.7.11"
  }
 },
 "nbformat": 4,
 "nbformat_minor": 4
}
